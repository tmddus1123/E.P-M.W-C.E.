{
  "nbformat": 4,
  "nbformat_minor": 0,
  "metadata": {
    "colab": {
      "provenance": [],
      "authorship_tag": "ABX9TyPBy/sMSOR81xsY2GbGhnC8",
      "include_colab_link": true
    },
    "kernelspec": {
      "name": "python3",
      "display_name": "Python 3"
    },
    "language_info": {
      "name": "python"
    }
  },
  "cells": [
    {
      "cell_type": "markdown",
      "metadata": {
        "id": "view-in-github",
        "colab_type": "text"
      },
      "source": [
        "<a href=\"https://colab.research.google.com/github/tmddus1123/E.P-M.W-C.E./blob/main/EP1%3DWEEK5a%2Cb_%3D_6.ipynb\" target=\"_parent\"><img src=\"https://colab.research.google.com/assets/colab-badge.svg\" alt=\"Open In Colab\"/></a>"
      ]
    },
    {
      "cell_type": "code",
      "execution_count": null,
      "metadata": {
        "colab": {
          "base_uri": "https://localhost:8080/"
        },
        "id": "fM-G-l1LtaDa",
        "outputId": "fa44f646-cb54-4eb4-82b9-320f00556e4b"
      },
      "outputs": [
        {
          "name": "stdout",
          "output_type": "stream",
          "text": [
            "life is too short. you need python\n"
          ]
        }
      ],
      "source": [
        "a=input()\n"
      ]
    },
    {
      "cell_type": "code",
      "source": [
        "from google.colab import drive\n",
        "drive.mount('/content/gdrive') #mount=드라이브를 가져다가 꼽은거임"
      ],
      "metadata": {
        "colab": {
          "base_uri": "https://localhost:8080/"
        },
        "id": "QGgInJ2AuzyR",
        "outputId": "5f086ec9-9ae9-43c7-f333-1531b2773c88"
      },
      "execution_count": 1,
      "outputs": [
        {
          "output_type": "stream",
          "name": "stdout",
          "text": [
            "Mounted at /content/gdrive\n"
          ]
        }
      ]
    },
    {
      "cell_type": "code",
      "source": [
        "import os \n",
        "path='/content/gdrive/MyDrive/temp_files' #기본폴더 = content -> gdrive -> mydrive -> 여기서 temp_files 만드는 명령어임\n",
        "os.makedirs(path,exist_ok=True) #os ㅠㅐ키지에서 makedirs 라는 것을 이용해서 폴더 생성 + ()안에있는 말은 폴더 있으면 stop, 없으면 생성임"
      ],
      "metadata": {
        "id": "GDOtiwg_vUg9"
      },
      "execution_count": 3,
      "outputs": []
    },
    {
      "cell_type": "code",
      "source": [
        "cwd=os.getcwd() #os.getcwd=get current walking diretory(=작업폴더) 현재의 작업폴더를 get해라\n",
        "print(cwd)"
      ],
      "metadata": {
        "colab": {
          "base_uri": "https://localhost:8080/"
        },
        "id": "E3m25CVNwBya",
        "outputId": "d73be81b-0982-4512-9ee2-578ef265d8dd"
      },
      "execution_count": 4,
      "outputs": [
        {
          "output_type": "stream",
          "name": "stdout",
          "text": [
            "/content\n"
          ]
        }
      ]
    },
    {
      "cell_type": "code",
      "source": [
        "os.chdir(path) #dhdir=chaging directory\n",
        "cwd=os.getcwd()\n",
        "print(cwd)"
      ],
      "metadata": {
        "colab": {
          "base_uri": "https://localhost:8080/"
        },
        "id": "rDLVBHVawH2j",
        "outputId": "37768877-a722-4e75-a66d-003a8734c9c4"
      },
      "execution_count": 5,
      "outputs": [
        {
          "output_type": "stream",
          "name": "stdout",
          "text": [
            "/content/gdrive/MyDrive/temp_files\n"
          ]
        }
      ]
    },
    {
      "cell_type": "code",
      "source": [
        "from google.colab import files\n",
        "uploaded=files.upload()"
      ],
      "metadata": {
        "colab": {
          "base_uri": "https://localhost:8080/",
          "height": 75
        },
        "id": "YHnbRhdSwVLP",
        "outputId": "6a64991d-c795-4865-c4ae-c39087ad10f9"
      },
      "execution_count": 35,
      "outputs": [
        {
          "output_type": "display_data",
          "data": {
            "text/plain": [
              "<IPython.core.display.HTML object>"
            ],
            "text/html": [
              "\n",
              "     <input type=\"file\" id=\"files-92166fc2-95e6-4fc6-944c-6276611e248a\" name=\"files[]\" multiple disabled\n",
              "        style=\"border:none\" />\n",
              "     <output id=\"result-92166fc2-95e6-4fc6-944c-6276611e248a\">\n",
              "      Upload widget is only available when the cell has been executed in the\n",
              "      current browser session. Please rerun this cell to enable.\n",
              "      </output>\n",
              "      <script>// Copyright 2017 Google LLC\n",
              "//\n",
              "// Licensed under the Apache License, Version 2.0 (the \"License\");\n",
              "// you may not use this file except in compliance with the License.\n",
              "// You may obtain a copy of the License at\n",
              "//\n",
              "//      http://www.apache.org/licenses/LICENSE-2.0\n",
              "//\n",
              "// Unless required by applicable law or agreed to in writing, software\n",
              "// distributed under the License is distributed on an \"AS IS\" BASIS,\n",
              "// WITHOUT WARRANTIES OR CONDITIONS OF ANY KIND, either express or implied.\n",
              "// See the License for the specific language governing permissions and\n",
              "// limitations under the License.\n",
              "\n",
              "/**\n",
              " * @fileoverview Helpers for google.colab Python module.\n",
              " */\n",
              "(function(scope) {\n",
              "function span(text, styleAttributes = {}) {\n",
              "  const element = document.createElement('span');\n",
              "  element.textContent = text;\n",
              "  for (const key of Object.keys(styleAttributes)) {\n",
              "    element.style[key] = styleAttributes[key];\n",
              "  }\n",
              "  return element;\n",
              "}\n",
              "\n",
              "// Max number of bytes which will be uploaded at a time.\n",
              "const MAX_PAYLOAD_SIZE = 100 * 1024;\n",
              "\n",
              "function _uploadFiles(inputId, outputId) {\n",
              "  const steps = uploadFilesStep(inputId, outputId);\n",
              "  const outputElement = document.getElementById(outputId);\n",
              "  // Cache steps on the outputElement to make it available for the next call\n",
              "  // to uploadFilesContinue from Python.\n",
              "  outputElement.steps = steps;\n",
              "\n",
              "  return _uploadFilesContinue(outputId);\n",
              "}\n",
              "\n",
              "// This is roughly an async generator (not supported in the browser yet),\n",
              "// where there are multiple asynchronous steps and the Python side is going\n",
              "// to poll for completion of each step.\n",
              "// This uses a Promise to block the python side on completion of each step,\n",
              "// then passes the result of the previous step as the input to the next step.\n",
              "function _uploadFilesContinue(outputId) {\n",
              "  const outputElement = document.getElementById(outputId);\n",
              "  const steps = outputElement.steps;\n",
              "\n",
              "  const next = steps.next(outputElement.lastPromiseValue);\n",
              "  return Promise.resolve(next.value.promise).then((value) => {\n",
              "    // Cache the last promise value to make it available to the next\n",
              "    // step of the generator.\n",
              "    outputElement.lastPromiseValue = value;\n",
              "    return next.value.response;\n",
              "  });\n",
              "}\n",
              "\n",
              "/**\n",
              " * Generator function which is called between each async step of the upload\n",
              " * process.\n",
              " * @param {string} inputId Element ID of the input file picker element.\n",
              " * @param {string} outputId Element ID of the output display.\n",
              " * @return {!Iterable<!Object>} Iterable of next steps.\n",
              " */\n",
              "function* uploadFilesStep(inputId, outputId) {\n",
              "  const inputElement = document.getElementById(inputId);\n",
              "  inputElement.disabled = false;\n",
              "\n",
              "  const outputElement = document.getElementById(outputId);\n",
              "  outputElement.innerHTML = '';\n",
              "\n",
              "  const pickedPromise = new Promise((resolve) => {\n",
              "    inputElement.addEventListener('change', (e) => {\n",
              "      resolve(e.target.files);\n",
              "    });\n",
              "  });\n",
              "\n",
              "  const cancel = document.createElement('button');\n",
              "  inputElement.parentElement.appendChild(cancel);\n",
              "  cancel.textContent = 'Cancel upload';\n",
              "  const cancelPromise = new Promise((resolve) => {\n",
              "    cancel.onclick = () => {\n",
              "      resolve(null);\n",
              "    };\n",
              "  });\n",
              "\n",
              "  // Wait for the user to pick the files.\n",
              "  const files = yield {\n",
              "    promise: Promise.race([pickedPromise, cancelPromise]),\n",
              "    response: {\n",
              "      action: 'starting',\n",
              "    }\n",
              "  };\n",
              "\n",
              "  cancel.remove();\n",
              "\n",
              "  // Disable the input element since further picks are not allowed.\n",
              "  inputElement.disabled = true;\n",
              "\n",
              "  if (!files) {\n",
              "    return {\n",
              "      response: {\n",
              "        action: 'complete',\n",
              "      }\n",
              "    };\n",
              "  }\n",
              "\n",
              "  for (const file of files) {\n",
              "    const li = document.createElement('li');\n",
              "    li.append(span(file.name, {fontWeight: 'bold'}));\n",
              "    li.append(span(\n",
              "        `(${file.type || 'n/a'}) - ${file.size} bytes, ` +\n",
              "        `last modified: ${\n",
              "            file.lastModifiedDate ? file.lastModifiedDate.toLocaleDateString() :\n",
              "                                    'n/a'} - `));\n",
              "    const percent = span('0% done');\n",
              "    li.appendChild(percent);\n",
              "\n",
              "    outputElement.appendChild(li);\n",
              "\n",
              "    const fileDataPromise = new Promise((resolve) => {\n",
              "      const reader = new FileReader();\n",
              "      reader.onload = (e) => {\n",
              "        resolve(e.target.result);\n",
              "      };\n",
              "      reader.readAsArrayBuffer(file);\n",
              "    });\n",
              "    // Wait for the data to be ready.\n",
              "    let fileData = yield {\n",
              "      promise: fileDataPromise,\n",
              "      response: {\n",
              "        action: 'continue',\n",
              "      }\n",
              "    };\n",
              "\n",
              "    // Use a chunked sending to avoid message size limits. See b/62115660.\n",
              "    let position = 0;\n",
              "    do {\n",
              "      const length = Math.min(fileData.byteLength - position, MAX_PAYLOAD_SIZE);\n",
              "      const chunk = new Uint8Array(fileData, position, length);\n",
              "      position += length;\n",
              "\n",
              "      const base64 = btoa(String.fromCharCode.apply(null, chunk));\n",
              "      yield {\n",
              "        response: {\n",
              "          action: 'append',\n",
              "          file: file.name,\n",
              "          data: base64,\n",
              "        },\n",
              "      };\n",
              "\n",
              "      let percentDone = fileData.byteLength === 0 ?\n",
              "          100 :\n",
              "          Math.round((position / fileData.byteLength) * 100);\n",
              "      percent.textContent = `${percentDone}% done`;\n",
              "\n",
              "    } while (position < fileData.byteLength);\n",
              "  }\n",
              "\n",
              "  // All done.\n",
              "  yield {\n",
              "    response: {\n",
              "      action: 'complete',\n",
              "    }\n",
              "  };\n",
              "}\n",
              "\n",
              "scope.google = scope.google || {};\n",
              "scope.google.colab = scope.google.colab || {};\n",
              "scope.google.colab._files = {\n",
              "  _uploadFiles,\n",
              "  _uploadFilesContinue,\n",
              "};\n",
              "})(self);\n",
              "</script> "
            ]
          },
          "metadata": {}
        },
        {
          "output_type": "stream",
          "name": "stdout",
          "text": [
            "Saving newfile (1).txt to newfile (1) (2).txt\n"
          ]
        }
      ]
    },
    {
      "cell_type": "code",
      "source": [
        "cwd=os.getcwd()\n",
        "filename='newfile.txt'\n",
        "\n",
        "full_path=os.path.join(cwd,filename)\n",
        "print(full_path)"
      ],
      "metadata": {
        "colab": {
          "base_uri": "https://localhost:8080/"
        },
        "id": "WcbtnKZX2p9_",
        "outputId": "48e88e3a-18ae-470f-a825-0ffaefefb9e7"
      },
      "execution_count": 39,
      "outputs": [
        {
          "output_type": "stream",
          "name": "stdout",
          "text": [
            "/content/gdrive/MyDrive/temp_files/newfile.txt\n"
          ]
        }
      ]
    },
    {
      "cell_type": "code",
      "source": [
        "f=open(full_path,'r')\n",
        "line=f.readline()\n",
        "print(line)\n",
        "f.close() #open-close = 세트"
      ],
      "metadata": {
        "colab": {
          "base_uri": "https://localhost:8080/"
        },
        "id": "JdCh1QcD3qUu",
        "outputId": "e083e845-cae8-430b-a7ea-9432d33f271e"
      },
      "execution_count": 40,
      "outputs": [
        {
          "output_type": "stream",
          "name": "stdout",
          "text": [
            "Line 1\n",
            "\n"
          ]
        }
      ]
    },
    {
      "cell_type": "code",
      "source": [
        "f=open(full_path,'r')\n",
        "while True:\n",
        "  line=f.readline()\n",
        "  if not line:break\n",
        "  print(line)\n",
        "f.close()"
      ],
      "metadata": {
        "colab": {
          "base_uri": "https://localhost:8080/"
        },
        "id": "jvcnWMNS4SNS",
        "outputId": "4556a9f1-6e03-4fed-e5c5-f1ada2c8268d"
      },
      "execution_count": 41,
      "outputs": [
        {
          "output_type": "stream",
          "name": "stdout",
          "text": [
            "Line 1\n",
            "\n",
            "Line 2\n",
            "\n",
            "Line 3\n",
            "\n",
            "Line 4\n",
            "\n",
            "Line 5\n",
            "\n",
            "Line 6\n",
            "\n",
            "Line 7\n",
            "\n",
            "Line 8\n",
            "\n",
            "Line 9\n",
            "\n",
            "Line 10\n",
            "\n"
          ]
        }
      ]
    },
    {
      "cell_type": "code",
      "source": [
        "f=open(full_path,'r')\n",
        "lines=f.readlines()\n",
        "for line in lines:\n",
        "  print(line)\n",
        "f.close()"
      ],
      "metadata": {
        "colab": {
          "base_uri": "https://localhost:8080/"
        },
        "id": "7OWd0_7w8IbJ",
        "outputId": "1ec71d76-a80d-4812-f5b7-e8e00edc7983"
      },
      "execution_count": null,
      "outputs": [
        {
          "output_type": "stream",
          "name": "stdout",
          "text": [
            "Line 1\n",
            "\n",
            "Line 2\n",
            "\n",
            "Line 3\n",
            "\n",
            "Line 4\n",
            "\n",
            "Line 5\n",
            "\n",
            "Line 6\n",
            "\n",
            "Line 7\n",
            "\n",
            "Line 8\n",
            "\n",
            "Line 9\n",
            "\n",
            "Line 10\n",
            "\n"
          ]
        }
      ]
    },
    {
      "cell_type": "code",
      "source": [
        "#9,10 놓침.................................................."
      ],
      "metadata": {
        "id": "ek_VxzxF9A_s"
      },
      "execution_count": null,
      "outputs": []
    },
    {
      "cell_type": "code",
      "source": [
        "#객체 = f=객체(object) -> 대상, 물건 \n",
        "#read = 문자열로 저장"
      ],
      "metadata": {
        "id": "GBcRzhU4CCDX"
      },
      "execution_count": null,
      "outputs": []
    },
    {
      "cell_type": "code",
      "source": [
        "f=open(\"newfile2.txt\",'w')\n",
        "for i in range(1,11):\n",
        "  f.write(\"new line {}\\n\".format(i)) #\\n = 줄 바꿔주는 코드\n",
        "f.close()"
      ],
      "metadata": {
        "id": "fMO7b5C3C5Os"
      },
      "execution_count": 10,
      "outputs": []
    },
    {
      "cell_type": "code",
      "source": [
        "cwd=os.getcwd() \n",
        "filename=\"newfile2.txt\"\n",
        "\n",
        "full_path=os.path.join(cwd,filename)\n",
        "print(full_path)"
      ],
      "metadata": {
        "colab": {
          "base_uri": "https://localhost:8080/"
        },
        "id": "1AqSKw5uEH41",
        "outputId": "e5292ed6-a86c-475c-820a-096e5bcdb71d"
      },
      "execution_count": 11,
      "outputs": [
        {
          "output_type": "stream",
          "name": "stdout",
          "text": [
            "/content/gdrive/MyDrive/temp_files/newfile2.txt\n"
          ]
        }
      ]
    },
    {
      "cell_type": "code",
      "source": [
        "#os=library"
      ],
      "metadata": {
        "id": "yPHt2416Iad7"
      },
      "execution_count": null,
      "outputs": []
    },
    {
      "cell_type": "code",
      "source": [
        "f=open(full_path,'r')\n",
        "lines=f.readlines() #readlines = 리스트로 저장\n",
        "print(type(lines)) #lines의 타입이 list니까 list로 출력\n",
        "print(lines) #readlines가 싹다 리스트 하나로 묶어주는거니까 저렇게 출력 (\\n까지 세트로)\n",
        "for line in lines:\n",
        "  print(line) #이거는 리스트로 출력하는게 아니라 나와있는데로 쓰고 \\n 하고를 for함수로 돌리는거임\n",
        "f.close()"
      ],
      "metadata": {
        "colab": {
          "base_uri": "https://localhost:8080/"
        },
        "id": "GeDVdNgVKVQL",
        "outputId": "93c0c6ed-7708-4d7b-a0fe-b6ff74207f37"
      },
      "execution_count": 12,
      "outputs": [
        {
          "output_type": "stream",
          "name": "stdout",
          "text": [
            "<class 'list'>\n",
            "['new line 1\\n', 'new line 2\\n', 'new line 3\\n', 'new line 4\\n', 'new line 5\\n', 'new line 6\\n', 'new line 7\\n', 'new line 8\\n', 'new line 9\\n', 'new line 10\\n']\n",
            "new line 1\n",
            "\n",
            "new line 2\n",
            "\n",
            "new line 3\n",
            "\n",
            "new line 4\n",
            "\n",
            "new line 5\n",
            "\n",
            "new line 6\n",
            "\n",
            "new line 7\n",
            "\n",
            "new line 8\n",
            "\n",
            "new line 9\n",
            "\n",
            "new line 10\n",
            "\n"
          ]
        }
      ]
    },
    {
      "cell_type": "code",
      "source": [],
      "metadata": {
        "id": "h1cmprMjz7sO"
      },
      "execution_count": null,
      "outputs": []
    },
    {
      "cell_type": "code",
      "source": [
        "with open('newfile.txt','r') as f:\n",
        "  data=f.read\n",
        "print(type(data))\n",
        "print(data)"
      ],
      "metadata": {
        "colab": {
          "base_uri": "https://localhost:8080/"
        },
        "id": "75bgfIygPQow",
        "outputId": "a49e6167-67c8-41b5-f578-c2eebd7aad3b"
      },
      "execution_count": 13,
      "outputs": [
        {
          "output_type": "stream",
          "name": "stdout",
          "text": [
            "<class 'builtin_function_or_method'>\n",
            "<built-in method read of _io.TextIOWrapper object at 0x7f952752e930>\n"
          ]
        }
      ]
    },
    {
      "cell_type": "code",
      "source": [
        "with open('newfile3.txt','w') as f:\n",
        "  f.write(\"helle, world!\\n\")\n",
        "\n",
        "with open ('newfile3.txt','r') as f:\n",
        "  data=f.read()\n",
        "\n",
        "print(type(data))\n",
        "print(data)\n",
        "#str=문자열"
      ],
      "metadata": {
        "colab": {
          "base_uri": "https://localhost:8080/"
        },
        "id": "WoqeXIJ8PwqG",
        "outputId": "5c4d082f-1f03-4da4-fcca-45107f875caa"
      },
      "execution_count": 42,
      "outputs": [
        {
          "output_type": "stream",
          "name": "stdout",
          "text": [
            "<class 'str'>\n",
            "helle, world!\n",
            "\n"
          ]
        }
      ]
    },
    {
      "cell_type": "code",
      "source": [
        "with open()"
      ],
      "metadata": {
        "id": "ZJNH15jYQrmD"
      },
      "execution_count": null,
      "outputs": []
    },
    {
      "cell_type": "code",
      "source": [
        "#이거 무조건 해결하기\n",
        "\n",
        "def is_prime(n):\n",
        "  if n<2:\n",
        "    return False\n",
        "  for i in range(2, int(n**0.5)+1):\n",
        "    if n%1==0:\n",
        "      \n",
        "      return False\n",
        "    return True\n",
        "\n",
        "f=open(full_path,'w')\n",
        "for i in range(1,1001):\n",
        "  is_prime(i)\n",
        "  if False:\n",
        "    f.write(\"%d는 홀수가 아닙니다.\\n\" %i)\n",
        "  else:\n",
        "    f.write(\"%d는 홀수입니다.\\n\" %i)\n",
        "f.close()\n",
        "\n",
        "f=open(full_path,\"r\")\n",
        "lines=f.readlines()\n",
        "print(lines)\n",
        "f.close()"
      ],
      "metadata": {
        "colab": {
          "base_uri": "https://localhost:8080/"
        },
        "id": "y6Y1-3sMyKV9",
        "outputId": "4bfdaf9e-3daa-4549-b462-15805731944e"
      },
      "execution_count": 53,
      "outputs": [
        {
          "output_type": "stream",
          "name": "stdout",
          "text": [
            "['1는 홀수입니다.\\n', '2는 홀수입니다.\\n', '3는 홀수입니다.\\n', '4는 홀수입니다.\\n', '5는 홀수입니다.\\n', '6는 홀수입니다.\\n', '7는 홀수입니다.\\n', '8는 홀수입니다.\\n', '9는 홀수입니다.\\n', '10는 홀수입니다.\\n', '11는 홀수입니다.\\n', '12는 홀수입니다.\\n', '13는 홀수입니다.\\n', '14는 홀수입니다.\\n', '15는 홀수입니다.\\n', '16는 홀수입니다.\\n', '17는 홀수입니다.\\n', '18는 홀수입니다.\\n', '19는 홀수입니다.\\n', '20는 홀수입니다.\\n', '21는 홀수입니다.\\n', '22는 홀수입니다.\\n', '23는 홀수입니다.\\n', '24는 홀수입니다.\\n', '25는 홀수입니다.\\n', '26는 홀수입니다.\\n', '27는 홀수입니다.\\n', '28는 홀수입니다.\\n', '29는 홀수입니다.\\n', '30는 홀수입니다.\\n', '31는 홀수입니다.\\n', '32는 홀수입니다.\\n', '33는 홀수입니다.\\n', '34는 홀수입니다.\\n', '35는 홀수입니다.\\n', '36는 홀수입니다.\\n', '37는 홀수입니다.\\n', '38는 홀수입니다.\\n', '39는 홀수입니다.\\n', '40는 홀수입니다.\\n', '41는 홀수입니다.\\n', '42는 홀수입니다.\\n', '43는 홀수입니다.\\n', '44는 홀수입니다.\\n', '45는 홀수입니다.\\n', '46는 홀수입니다.\\n', '47는 홀수입니다.\\n', '48는 홀수입니다.\\n', '49는 홀수입니다.\\n', '50는 홀수입니다.\\n', '51는 홀수입니다.\\n', '52는 홀수입니다.\\n', '53는 홀수입니다.\\n', '54는 홀수입니다.\\n', '55는 홀수입니다.\\n', '56는 홀수입니다.\\n', '57는 홀수입니다.\\n', '58는 홀수입니다.\\n', '59는 홀수입니다.\\n', '60는 홀수입니다.\\n', '61는 홀수입니다.\\n', '62는 홀수입니다.\\n', '63는 홀수입니다.\\n', '64는 홀수입니다.\\n', '65는 홀수입니다.\\n', '66는 홀수입니다.\\n', '67는 홀수입니다.\\n', '68는 홀수입니다.\\n', '69는 홀수입니다.\\n', '70는 홀수입니다.\\n', '71는 홀수입니다.\\n', '72는 홀수입니다.\\n', '73는 홀수입니다.\\n', '74는 홀수입니다.\\n', '75는 홀수입니다.\\n', '76는 홀수입니다.\\n', '77는 홀수입니다.\\n', '78는 홀수입니다.\\n', '79는 홀수입니다.\\n', '80는 홀수입니다.\\n', '81는 홀수입니다.\\n', '82는 홀수입니다.\\n', '83는 홀수입니다.\\n', '84는 홀수입니다.\\n', '85는 홀수입니다.\\n', '86는 홀수입니다.\\n', '87는 홀수입니다.\\n', '88는 홀수입니다.\\n', '89는 홀수입니다.\\n', '90는 홀수입니다.\\n', '91는 홀수입니다.\\n', '92는 홀수입니다.\\n', '93는 홀수입니다.\\n', '94는 홀수입니다.\\n', '95는 홀수입니다.\\n', '96는 홀수입니다.\\n', '97는 홀수입니다.\\n', '98는 홀수입니다.\\n', '99는 홀수입니다.\\n', '100는 홀수입니다.\\n', '101는 홀수입니다.\\n', '102는 홀수입니다.\\n', '103는 홀수입니다.\\n', '104는 홀수입니다.\\n', '105는 홀수입니다.\\n', '106는 홀수입니다.\\n', '107는 홀수입니다.\\n', '108는 홀수입니다.\\n', '109는 홀수입니다.\\n', '110는 홀수입니다.\\n', '111는 홀수입니다.\\n', '112는 홀수입니다.\\n', '113는 홀수입니다.\\n', '114는 홀수입니다.\\n', '115는 홀수입니다.\\n', '116는 홀수입니다.\\n', '117는 홀수입니다.\\n', '118는 홀수입니다.\\n', '119는 홀수입니다.\\n', '120는 홀수입니다.\\n', '121는 홀수입니다.\\n', '122는 홀수입니다.\\n', '123는 홀수입니다.\\n', '124는 홀수입니다.\\n', '125는 홀수입니다.\\n', '126는 홀수입니다.\\n', '127는 홀수입니다.\\n', '128는 홀수입니다.\\n', '129는 홀수입니다.\\n', '130는 홀수입니다.\\n', '131는 홀수입니다.\\n', '132는 홀수입니다.\\n', '133는 홀수입니다.\\n', '134는 홀수입니다.\\n', '135는 홀수입니다.\\n', '136는 홀수입니다.\\n', '137는 홀수입니다.\\n', '138는 홀수입니다.\\n', '139는 홀수입니다.\\n', '140는 홀수입니다.\\n', '141는 홀수입니다.\\n', '142는 홀수입니다.\\n', '143는 홀수입니다.\\n', '144는 홀수입니다.\\n', '145는 홀수입니다.\\n', '146는 홀수입니다.\\n', '147는 홀수입니다.\\n', '148는 홀수입니다.\\n', '149는 홀수입니다.\\n', '150는 홀수입니다.\\n', '151는 홀수입니다.\\n', '152는 홀수입니다.\\n', '153는 홀수입니다.\\n', '154는 홀수입니다.\\n', '155는 홀수입니다.\\n', '156는 홀수입니다.\\n', '157는 홀수입니다.\\n', '158는 홀수입니다.\\n', '159는 홀수입니다.\\n', '160는 홀수입니다.\\n', '161는 홀수입니다.\\n', '162는 홀수입니다.\\n', '163는 홀수입니다.\\n', '164는 홀수입니다.\\n', '165는 홀수입니다.\\n', '166는 홀수입니다.\\n', '167는 홀수입니다.\\n', '168는 홀수입니다.\\n', '169는 홀수입니다.\\n', '170는 홀수입니다.\\n', '171는 홀수입니다.\\n', '172는 홀수입니다.\\n', '173는 홀수입니다.\\n', '174는 홀수입니다.\\n', '175는 홀수입니다.\\n', '176는 홀수입니다.\\n', '177는 홀수입니다.\\n', '178는 홀수입니다.\\n', '179는 홀수입니다.\\n', '180는 홀수입니다.\\n', '181는 홀수입니다.\\n', '182는 홀수입니다.\\n', '183는 홀수입니다.\\n', '184는 홀수입니다.\\n', '185는 홀수입니다.\\n', '186는 홀수입니다.\\n', '187는 홀수입니다.\\n', '188는 홀수입니다.\\n', '189는 홀수입니다.\\n', '190는 홀수입니다.\\n', '191는 홀수입니다.\\n', '192는 홀수입니다.\\n', '193는 홀수입니다.\\n', '194는 홀수입니다.\\n', '195는 홀수입니다.\\n', '196는 홀수입니다.\\n', '197는 홀수입니다.\\n', '198는 홀수입니다.\\n', '199는 홀수입니다.\\n', '200는 홀수입니다.\\n', '201는 홀수입니다.\\n', '202는 홀수입니다.\\n', '203는 홀수입니다.\\n', '204는 홀수입니다.\\n', '205는 홀수입니다.\\n', '206는 홀수입니다.\\n', '207는 홀수입니다.\\n', '208는 홀수입니다.\\n', '209는 홀수입니다.\\n', '210는 홀수입니다.\\n', '211는 홀수입니다.\\n', '212는 홀수입니다.\\n', '213는 홀수입니다.\\n', '214는 홀수입니다.\\n', '215는 홀수입니다.\\n', '216는 홀수입니다.\\n', '217는 홀수입니다.\\n', '218는 홀수입니다.\\n', '219는 홀수입니다.\\n', '220는 홀수입니다.\\n', '221는 홀수입니다.\\n', '222는 홀수입니다.\\n', '223는 홀수입니다.\\n', '224는 홀수입니다.\\n', '225는 홀수입니다.\\n', '226는 홀수입니다.\\n', '227는 홀수입니다.\\n', '228는 홀수입니다.\\n', '229는 홀수입니다.\\n', '230는 홀수입니다.\\n', '231는 홀수입니다.\\n', '232는 홀수입니다.\\n', '233는 홀수입니다.\\n', '234는 홀수입니다.\\n', '235는 홀수입니다.\\n', '236는 홀수입니다.\\n', '237는 홀수입니다.\\n', '238는 홀수입니다.\\n', '239는 홀수입니다.\\n', '240는 홀수입니다.\\n', '241는 홀수입니다.\\n', '242는 홀수입니다.\\n', '243는 홀수입니다.\\n', '244는 홀수입니다.\\n', '245는 홀수입니다.\\n', '246는 홀수입니다.\\n', '247는 홀수입니다.\\n', '248는 홀수입니다.\\n', '249는 홀수입니다.\\n', '250는 홀수입니다.\\n', '251는 홀수입니다.\\n', '252는 홀수입니다.\\n', '253는 홀수입니다.\\n', '254는 홀수입니다.\\n', '255는 홀수입니다.\\n', '256는 홀수입니다.\\n', '257는 홀수입니다.\\n', '258는 홀수입니다.\\n', '259는 홀수입니다.\\n', '260는 홀수입니다.\\n', '261는 홀수입니다.\\n', '262는 홀수입니다.\\n', '263는 홀수입니다.\\n', '264는 홀수입니다.\\n', '265는 홀수입니다.\\n', '266는 홀수입니다.\\n', '267는 홀수입니다.\\n', '268는 홀수입니다.\\n', '269는 홀수입니다.\\n', '270는 홀수입니다.\\n', '271는 홀수입니다.\\n', '272는 홀수입니다.\\n', '273는 홀수입니다.\\n', '274는 홀수입니다.\\n', '275는 홀수입니다.\\n', '276는 홀수입니다.\\n', '277는 홀수입니다.\\n', '278는 홀수입니다.\\n', '279는 홀수입니다.\\n', '280는 홀수입니다.\\n', '281는 홀수입니다.\\n', '282는 홀수입니다.\\n', '283는 홀수입니다.\\n', '284는 홀수입니다.\\n', '285는 홀수입니다.\\n', '286는 홀수입니다.\\n', '287는 홀수입니다.\\n', '288는 홀수입니다.\\n', '289는 홀수입니다.\\n', '290는 홀수입니다.\\n', '291는 홀수입니다.\\n', '292는 홀수입니다.\\n', '293는 홀수입니다.\\n', '294는 홀수입니다.\\n', '295는 홀수입니다.\\n', '296는 홀수입니다.\\n', '297는 홀수입니다.\\n', '298는 홀수입니다.\\n', '299는 홀수입니다.\\n', '300는 홀수입니다.\\n', '301는 홀수입니다.\\n', '302는 홀수입니다.\\n', '303는 홀수입니다.\\n', '304는 홀수입니다.\\n', '305는 홀수입니다.\\n', '306는 홀수입니다.\\n', '307는 홀수입니다.\\n', '308는 홀수입니다.\\n', '309는 홀수입니다.\\n', '310는 홀수입니다.\\n', '311는 홀수입니다.\\n', '312는 홀수입니다.\\n', '313는 홀수입니다.\\n', '314는 홀수입니다.\\n', '315는 홀수입니다.\\n', '316는 홀수입니다.\\n', '317는 홀수입니다.\\n', '318는 홀수입니다.\\n', '319는 홀수입니다.\\n', '320는 홀수입니다.\\n', '321는 홀수입니다.\\n', '322는 홀수입니다.\\n', '323는 홀수입니다.\\n', '324는 홀수입니다.\\n', '325는 홀수입니다.\\n', '326는 홀수입니다.\\n', '327는 홀수입니다.\\n', '328는 홀수입니다.\\n', '329는 홀수입니다.\\n', '330는 홀수입니다.\\n', '331는 홀수입니다.\\n', '332는 홀수입니다.\\n', '333는 홀수입니다.\\n', '334는 홀수입니다.\\n', '335는 홀수입니다.\\n', '336는 홀수입니다.\\n', '337는 홀수입니다.\\n', '338는 홀수입니다.\\n', '339는 홀수입니다.\\n', '340는 홀수입니다.\\n', '341는 홀수입니다.\\n', '342는 홀수입니다.\\n', '343는 홀수입니다.\\n', '344는 홀수입니다.\\n', '345는 홀수입니다.\\n', '346는 홀수입니다.\\n', '347는 홀수입니다.\\n', '348는 홀수입니다.\\n', '349는 홀수입니다.\\n', '350는 홀수입니다.\\n', '351는 홀수입니다.\\n', '352는 홀수입니다.\\n', '353는 홀수입니다.\\n', '354는 홀수입니다.\\n', '355는 홀수입니다.\\n', '356는 홀수입니다.\\n', '357는 홀수입니다.\\n', '358는 홀수입니다.\\n', '359는 홀수입니다.\\n', '360는 홀수입니다.\\n', '361는 홀수입니다.\\n', '362는 홀수입니다.\\n', '363는 홀수입니다.\\n', '364는 홀수입니다.\\n', '365는 홀수입니다.\\n', '366는 홀수입니다.\\n', '367는 홀수입니다.\\n', '368는 홀수입니다.\\n', '369는 홀수입니다.\\n', '370는 홀수입니다.\\n', '371는 홀수입니다.\\n', '372는 홀수입니다.\\n', '373는 홀수입니다.\\n', '374는 홀수입니다.\\n', '375는 홀수입니다.\\n', '376는 홀수입니다.\\n', '377는 홀수입니다.\\n', '378는 홀수입니다.\\n', '379는 홀수입니다.\\n', '380는 홀수입니다.\\n', '381는 홀수입니다.\\n', '382는 홀수입니다.\\n', '383는 홀수입니다.\\n', '384는 홀수입니다.\\n', '385는 홀수입니다.\\n', '386는 홀수입니다.\\n', '387는 홀수입니다.\\n', '388는 홀수입니다.\\n', '389는 홀수입니다.\\n', '390는 홀수입니다.\\n', '391는 홀수입니다.\\n', '392는 홀수입니다.\\n', '393는 홀수입니다.\\n', '394는 홀수입니다.\\n', '395는 홀수입니다.\\n', '396는 홀수입니다.\\n', '397는 홀수입니다.\\n', '398는 홀수입니다.\\n', '399는 홀수입니다.\\n', '400는 홀수입니다.\\n', '401는 홀수입니다.\\n', '402는 홀수입니다.\\n', '403는 홀수입니다.\\n', '404는 홀수입니다.\\n', '405는 홀수입니다.\\n', '406는 홀수입니다.\\n', '407는 홀수입니다.\\n', '408는 홀수입니다.\\n', '409는 홀수입니다.\\n', '410는 홀수입니다.\\n', '411는 홀수입니다.\\n', '412는 홀수입니다.\\n', '413는 홀수입니다.\\n', '414는 홀수입니다.\\n', '415는 홀수입니다.\\n', '416는 홀수입니다.\\n', '417는 홀수입니다.\\n', '418는 홀수입니다.\\n', '419는 홀수입니다.\\n', '420는 홀수입니다.\\n', '421는 홀수입니다.\\n', '422는 홀수입니다.\\n', '423는 홀수입니다.\\n', '424는 홀수입니다.\\n', '425는 홀수입니다.\\n', '426는 홀수입니다.\\n', '427는 홀수입니다.\\n', '428는 홀수입니다.\\n', '429는 홀수입니다.\\n', '430는 홀수입니다.\\n', '431는 홀수입니다.\\n', '432는 홀수입니다.\\n', '433는 홀수입니다.\\n', '434는 홀수입니다.\\n', '435는 홀수입니다.\\n', '436는 홀수입니다.\\n', '437는 홀수입니다.\\n', '438는 홀수입니다.\\n', '439는 홀수입니다.\\n', '440는 홀수입니다.\\n', '441는 홀수입니다.\\n', '442는 홀수입니다.\\n', '443는 홀수입니다.\\n', '444는 홀수입니다.\\n', '445는 홀수입니다.\\n', '446는 홀수입니다.\\n', '447는 홀수입니다.\\n', '448는 홀수입니다.\\n', '449는 홀수입니다.\\n', '450는 홀수입니다.\\n', '451는 홀수입니다.\\n', '452는 홀수입니다.\\n', '453는 홀수입니다.\\n', '454는 홀수입니다.\\n', '455는 홀수입니다.\\n', '456는 홀수입니다.\\n', '457는 홀수입니다.\\n', '458는 홀수입니다.\\n', '459는 홀수입니다.\\n', '460는 홀수입니다.\\n', '461는 홀수입니다.\\n', '462는 홀수입니다.\\n', '463는 홀수입니다.\\n', '464는 홀수입니다.\\n', '465는 홀수입니다.\\n', '466는 홀수입니다.\\n', '467는 홀수입니다.\\n', '468는 홀수입니다.\\n', '469는 홀수입니다.\\n', '470는 홀수입니다.\\n', '471는 홀수입니다.\\n', '472는 홀수입니다.\\n', '473는 홀수입니다.\\n', '474는 홀수입니다.\\n', '475는 홀수입니다.\\n', '476는 홀수입니다.\\n', '477는 홀수입니다.\\n', '478는 홀수입니다.\\n', '479는 홀수입니다.\\n', '480는 홀수입니다.\\n', '481는 홀수입니다.\\n', '482는 홀수입니다.\\n', '483는 홀수입니다.\\n', '484는 홀수입니다.\\n', '485는 홀수입니다.\\n', '486는 홀수입니다.\\n', '487는 홀수입니다.\\n', '488는 홀수입니다.\\n', '489는 홀수입니다.\\n', '490는 홀수입니다.\\n', '491는 홀수입니다.\\n', '492는 홀수입니다.\\n', '493는 홀수입니다.\\n', '494는 홀수입니다.\\n', '495는 홀수입니다.\\n', '496는 홀수입니다.\\n', '497는 홀수입니다.\\n', '498는 홀수입니다.\\n', '499는 홀수입니다.\\n', '500는 홀수입니다.\\n', '501는 홀수입니다.\\n', '502는 홀수입니다.\\n', '503는 홀수입니다.\\n', '504는 홀수입니다.\\n', '505는 홀수입니다.\\n', '506는 홀수입니다.\\n', '507는 홀수입니다.\\n', '508는 홀수입니다.\\n', '509는 홀수입니다.\\n', '510는 홀수입니다.\\n', '511는 홀수입니다.\\n', '512는 홀수입니다.\\n', '513는 홀수입니다.\\n', '514는 홀수입니다.\\n', '515는 홀수입니다.\\n', '516는 홀수입니다.\\n', '517는 홀수입니다.\\n', '518는 홀수입니다.\\n', '519는 홀수입니다.\\n', '520는 홀수입니다.\\n', '521는 홀수입니다.\\n', '522는 홀수입니다.\\n', '523는 홀수입니다.\\n', '524는 홀수입니다.\\n', '525는 홀수입니다.\\n', '526는 홀수입니다.\\n', '527는 홀수입니다.\\n', '528는 홀수입니다.\\n', '529는 홀수입니다.\\n', '530는 홀수입니다.\\n', '531는 홀수입니다.\\n', '532는 홀수입니다.\\n', '533는 홀수입니다.\\n', '534는 홀수입니다.\\n', '535는 홀수입니다.\\n', '536는 홀수입니다.\\n', '537는 홀수입니다.\\n', '538는 홀수입니다.\\n', '539는 홀수입니다.\\n', '540는 홀수입니다.\\n', '541는 홀수입니다.\\n', '542는 홀수입니다.\\n', '543는 홀수입니다.\\n', '544는 홀수입니다.\\n', '545는 홀수입니다.\\n', '546는 홀수입니다.\\n', '547는 홀수입니다.\\n', '548는 홀수입니다.\\n', '549는 홀수입니다.\\n', '550는 홀수입니다.\\n', '551는 홀수입니다.\\n', '552는 홀수입니다.\\n', '553는 홀수입니다.\\n', '554는 홀수입니다.\\n', '555는 홀수입니다.\\n', '556는 홀수입니다.\\n', '557는 홀수입니다.\\n', '558는 홀수입니다.\\n', '559는 홀수입니다.\\n', '560는 홀수입니다.\\n', '561는 홀수입니다.\\n', '562는 홀수입니다.\\n', '563는 홀수입니다.\\n', '564는 홀수입니다.\\n', '565는 홀수입니다.\\n', '566는 홀수입니다.\\n', '567는 홀수입니다.\\n', '568는 홀수입니다.\\n', '569는 홀수입니다.\\n', '570는 홀수입니다.\\n', '571는 홀수입니다.\\n', '572는 홀수입니다.\\n', '573는 홀수입니다.\\n', '574는 홀수입니다.\\n', '575는 홀수입니다.\\n', '576는 홀수입니다.\\n', '577는 홀수입니다.\\n', '578는 홀수입니다.\\n', '579는 홀수입니다.\\n', '580는 홀수입니다.\\n', '581는 홀수입니다.\\n', '582는 홀수입니다.\\n', '583는 홀수입니다.\\n', '584는 홀수입니다.\\n', '585는 홀수입니다.\\n', '586는 홀수입니다.\\n', '587는 홀수입니다.\\n', '588는 홀수입니다.\\n', '589는 홀수입니다.\\n', '590는 홀수입니다.\\n', '591는 홀수입니다.\\n', '592는 홀수입니다.\\n', '593는 홀수입니다.\\n', '594는 홀수입니다.\\n', '595는 홀수입니다.\\n', '596는 홀수입니다.\\n', '597는 홀수입니다.\\n', '598는 홀수입니다.\\n', '599는 홀수입니다.\\n', '600는 홀수입니다.\\n', '601는 홀수입니다.\\n', '602는 홀수입니다.\\n', '603는 홀수입니다.\\n', '604는 홀수입니다.\\n', '605는 홀수입니다.\\n', '606는 홀수입니다.\\n', '607는 홀수입니다.\\n', '608는 홀수입니다.\\n', '609는 홀수입니다.\\n', '610는 홀수입니다.\\n', '611는 홀수입니다.\\n', '612는 홀수입니다.\\n', '613는 홀수입니다.\\n', '614는 홀수입니다.\\n', '615는 홀수입니다.\\n', '616는 홀수입니다.\\n', '617는 홀수입니다.\\n', '618는 홀수입니다.\\n', '619는 홀수입니다.\\n', '620는 홀수입니다.\\n', '621는 홀수입니다.\\n', '622는 홀수입니다.\\n', '623는 홀수입니다.\\n', '624는 홀수입니다.\\n', '625는 홀수입니다.\\n', '626는 홀수입니다.\\n', '627는 홀수입니다.\\n', '628는 홀수입니다.\\n', '629는 홀수입니다.\\n', '630는 홀수입니다.\\n', '631는 홀수입니다.\\n', '632는 홀수입니다.\\n', '633는 홀수입니다.\\n', '634는 홀수입니다.\\n', '635는 홀수입니다.\\n', '636는 홀수입니다.\\n', '637는 홀수입니다.\\n', '638는 홀수입니다.\\n', '639는 홀수입니다.\\n', '640는 홀수입니다.\\n', '641는 홀수입니다.\\n', '642는 홀수입니다.\\n', '643는 홀수입니다.\\n', '644는 홀수입니다.\\n', '645는 홀수입니다.\\n', '646는 홀수입니다.\\n', '647는 홀수입니다.\\n', '648는 홀수입니다.\\n', '649는 홀수입니다.\\n', '650는 홀수입니다.\\n', '651는 홀수입니다.\\n', '652는 홀수입니다.\\n', '653는 홀수입니다.\\n', '654는 홀수입니다.\\n', '655는 홀수입니다.\\n', '656는 홀수입니다.\\n', '657는 홀수입니다.\\n', '658는 홀수입니다.\\n', '659는 홀수입니다.\\n', '660는 홀수입니다.\\n', '661는 홀수입니다.\\n', '662는 홀수입니다.\\n', '663는 홀수입니다.\\n', '664는 홀수입니다.\\n', '665는 홀수입니다.\\n', '666는 홀수입니다.\\n', '667는 홀수입니다.\\n', '668는 홀수입니다.\\n', '669는 홀수입니다.\\n', '670는 홀수입니다.\\n', '671는 홀수입니다.\\n', '672는 홀수입니다.\\n', '673는 홀수입니다.\\n', '674는 홀수입니다.\\n', '675는 홀수입니다.\\n', '676는 홀수입니다.\\n', '677는 홀수입니다.\\n', '678는 홀수입니다.\\n', '679는 홀수입니다.\\n', '680는 홀수입니다.\\n', '681는 홀수입니다.\\n', '682는 홀수입니다.\\n', '683는 홀수입니다.\\n', '684는 홀수입니다.\\n', '685는 홀수입니다.\\n', '686는 홀수입니다.\\n', '687는 홀수입니다.\\n', '688는 홀수입니다.\\n', '689는 홀수입니다.\\n', '690는 홀수입니다.\\n', '691는 홀수입니다.\\n', '692는 홀수입니다.\\n', '693는 홀수입니다.\\n', '694는 홀수입니다.\\n', '695는 홀수입니다.\\n', '696는 홀수입니다.\\n', '697는 홀수입니다.\\n', '698는 홀수입니다.\\n', '699는 홀수입니다.\\n', '700는 홀수입니다.\\n', '701는 홀수입니다.\\n', '702는 홀수입니다.\\n', '703는 홀수입니다.\\n', '704는 홀수입니다.\\n', '705는 홀수입니다.\\n', '706는 홀수입니다.\\n', '707는 홀수입니다.\\n', '708는 홀수입니다.\\n', '709는 홀수입니다.\\n', '710는 홀수입니다.\\n', '711는 홀수입니다.\\n', '712는 홀수입니다.\\n', '713는 홀수입니다.\\n', '714는 홀수입니다.\\n', '715는 홀수입니다.\\n', '716는 홀수입니다.\\n', '717는 홀수입니다.\\n', '718는 홀수입니다.\\n', '719는 홀수입니다.\\n', '720는 홀수입니다.\\n', '721는 홀수입니다.\\n', '722는 홀수입니다.\\n', '723는 홀수입니다.\\n', '724는 홀수입니다.\\n', '725는 홀수입니다.\\n', '726는 홀수입니다.\\n', '727는 홀수입니다.\\n', '728는 홀수입니다.\\n', '729는 홀수입니다.\\n', '730는 홀수입니다.\\n', '731는 홀수입니다.\\n', '732는 홀수입니다.\\n', '733는 홀수입니다.\\n', '734는 홀수입니다.\\n', '735는 홀수입니다.\\n', '736는 홀수입니다.\\n', '737는 홀수입니다.\\n', '738는 홀수입니다.\\n', '739는 홀수입니다.\\n', '740는 홀수입니다.\\n', '741는 홀수입니다.\\n', '742는 홀수입니다.\\n', '743는 홀수입니다.\\n', '744는 홀수입니다.\\n', '745는 홀수입니다.\\n', '746는 홀수입니다.\\n', '747는 홀수입니다.\\n', '748는 홀수입니다.\\n', '749는 홀수입니다.\\n', '750는 홀수입니다.\\n', '751는 홀수입니다.\\n', '752는 홀수입니다.\\n', '753는 홀수입니다.\\n', '754는 홀수입니다.\\n', '755는 홀수입니다.\\n', '756는 홀수입니다.\\n', '757는 홀수입니다.\\n', '758는 홀수입니다.\\n', '759는 홀수입니다.\\n', '760는 홀수입니다.\\n', '761는 홀수입니다.\\n', '762는 홀수입니다.\\n', '763는 홀수입니다.\\n', '764는 홀수입니다.\\n', '765는 홀수입니다.\\n', '766는 홀수입니다.\\n', '767는 홀수입니다.\\n', '768는 홀수입니다.\\n', '769는 홀수입니다.\\n', '770는 홀수입니다.\\n', '771는 홀수입니다.\\n', '772는 홀수입니다.\\n', '773는 홀수입니다.\\n', '774는 홀수입니다.\\n', '775는 홀수입니다.\\n', '776는 홀수입니다.\\n', '777는 홀수입니다.\\n', '778는 홀수입니다.\\n', '779는 홀수입니다.\\n', '780는 홀수입니다.\\n', '781는 홀수입니다.\\n', '782는 홀수입니다.\\n', '783는 홀수입니다.\\n', '784는 홀수입니다.\\n', '785는 홀수입니다.\\n', '786는 홀수입니다.\\n', '787는 홀수입니다.\\n', '788는 홀수입니다.\\n', '789는 홀수입니다.\\n', '790는 홀수입니다.\\n', '791는 홀수입니다.\\n', '792는 홀수입니다.\\n', '793는 홀수입니다.\\n', '794는 홀수입니다.\\n', '795는 홀수입니다.\\n', '796는 홀수입니다.\\n', '797는 홀수입니다.\\n', '798는 홀수입니다.\\n', '799는 홀수입니다.\\n', '800는 홀수입니다.\\n', '801는 홀수입니다.\\n', '802는 홀수입니다.\\n', '803는 홀수입니다.\\n', '804는 홀수입니다.\\n', '805는 홀수입니다.\\n', '806는 홀수입니다.\\n', '807는 홀수입니다.\\n', '808는 홀수입니다.\\n', '809는 홀수입니다.\\n', '810는 홀수입니다.\\n', '811는 홀수입니다.\\n', '812는 홀수입니다.\\n', '813는 홀수입니다.\\n', '814는 홀수입니다.\\n', '815는 홀수입니다.\\n', '816는 홀수입니다.\\n', '817는 홀수입니다.\\n', '818는 홀수입니다.\\n', '819는 홀수입니다.\\n', '820는 홀수입니다.\\n', '821는 홀수입니다.\\n', '822는 홀수입니다.\\n', '823는 홀수입니다.\\n', '824는 홀수입니다.\\n', '825는 홀수입니다.\\n', '826는 홀수입니다.\\n', '827는 홀수입니다.\\n', '828는 홀수입니다.\\n', '829는 홀수입니다.\\n', '830는 홀수입니다.\\n', '831는 홀수입니다.\\n', '832는 홀수입니다.\\n', '833는 홀수입니다.\\n', '834는 홀수입니다.\\n', '835는 홀수입니다.\\n', '836는 홀수입니다.\\n', '837는 홀수입니다.\\n', '838는 홀수입니다.\\n', '839는 홀수입니다.\\n', '840는 홀수입니다.\\n', '841는 홀수입니다.\\n', '842는 홀수입니다.\\n', '843는 홀수입니다.\\n', '844는 홀수입니다.\\n', '845는 홀수입니다.\\n', '846는 홀수입니다.\\n', '847는 홀수입니다.\\n', '848는 홀수입니다.\\n', '849는 홀수입니다.\\n', '850는 홀수입니다.\\n', '851는 홀수입니다.\\n', '852는 홀수입니다.\\n', '853는 홀수입니다.\\n', '854는 홀수입니다.\\n', '855는 홀수입니다.\\n', '856는 홀수입니다.\\n', '857는 홀수입니다.\\n', '858는 홀수입니다.\\n', '859는 홀수입니다.\\n', '860는 홀수입니다.\\n', '861는 홀수입니다.\\n', '862는 홀수입니다.\\n', '863는 홀수입니다.\\n', '864는 홀수입니다.\\n', '865는 홀수입니다.\\n', '866는 홀수입니다.\\n', '867는 홀수입니다.\\n', '868는 홀수입니다.\\n', '869는 홀수입니다.\\n', '870는 홀수입니다.\\n', '871는 홀수입니다.\\n', '872는 홀수입니다.\\n', '873는 홀수입니다.\\n', '874는 홀수입니다.\\n', '875는 홀수입니다.\\n', '876는 홀수입니다.\\n', '877는 홀수입니다.\\n', '878는 홀수입니다.\\n', '879는 홀수입니다.\\n', '880는 홀수입니다.\\n', '881는 홀수입니다.\\n', '882는 홀수입니다.\\n', '883는 홀수입니다.\\n', '884는 홀수입니다.\\n', '885는 홀수입니다.\\n', '886는 홀수입니다.\\n', '887는 홀수입니다.\\n', '888는 홀수입니다.\\n', '889는 홀수입니다.\\n', '890는 홀수입니다.\\n', '891는 홀수입니다.\\n', '892는 홀수입니다.\\n', '893는 홀수입니다.\\n', '894는 홀수입니다.\\n', '895는 홀수입니다.\\n', '896는 홀수입니다.\\n', '897는 홀수입니다.\\n', '898는 홀수입니다.\\n', '899는 홀수입니다.\\n', '900는 홀수입니다.\\n', '901는 홀수입니다.\\n', '902는 홀수입니다.\\n', '903는 홀수입니다.\\n', '904는 홀수입니다.\\n', '905는 홀수입니다.\\n', '906는 홀수입니다.\\n', '907는 홀수입니다.\\n', '908는 홀수입니다.\\n', '909는 홀수입니다.\\n', '910는 홀수입니다.\\n', '911는 홀수입니다.\\n', '912는 홀수입니다.\\n', '913는 홀수입니다.\\n', '914는 홀수입니다.\\n', '915는 홀수입니다.\\n', '916는 홀수입니다.\\n', '917는 홀수입니다.\\n', '918는 홀수입니다.\\n', '919는 홀수입니다.\\n', '920는 홀수입니다.\\n', '921는 홀수입니다.\\n', '922는 홀수입니다.\\n', '923는 홀수입니다.\\n', '924는 홀수입니다.\\n', '925는 홀수입니다.\\n', '926는 홀수입니다.\\n', '927는 홀수입니다.\\n', '928는 홀수입니다.\\n', '929는 홀수입니다.\\n', '930는 홀수입니다.\\n', '931는 홀수입니다.\\n', '932는 홀수입니다.\\n', '933는 홀수입니다.\\n', '934는 홀수입니다.\\n', '935는 홀수입니다.\\n', '936는 홀수입니다.\\n', '937는 홀수입니다.\\n', '938는 홀수입니다.\\n', '939는 홀수입니다.\\n', '940는 홀수입니다.\\n', '941는 홀수입니다.\\n', '942는 홀수입니다.\\n', '943는 홀수입니다.\\n', '944는 홀수입니다.\\n', '945는 홀수입니다.\\n', '946는 홀수입니다.\\n', '947는 홀수입니다.\\n', '948는 홀수입니다.\\n', '949는 홀수입니다.\\n', '950는 홀수입니다.\\n', '951는 홀수입니다.\\n', '952는 홀수입니다.\\n', '953는 홀수입니다.\\n', '954는 홀수입니다.\\n', '955는 홀수입니다.\\n', '956는 홀수입니다.\\n', '957는 홀수입니다.\\n', '958는 홀수입니다.\\n', '959는 홀수입니다.\\n', '960는 홀수입니다.\\n', '961는 홀수입니다.\\n', '962는 홀수입니다.\\n', '963는 홀수입니다.\\n', '964는 홀수입니다.\\n', '965는 홀수입니다.\\n', '966는 홀수입니다.\\n', '967는 홀수입니다.\\n', '968는 홀수입니다.\\n', '969는 홀수입니다.\\n', '970는 홀수입니다.\\n', '971는 홀수입니다.\\n', '972는 홀수입니다.\\n', '973는 홀수입니다.\\n', '974는 홀수입니다.\\n', '975는 홀수입니다.\\n', '976는 홀수입니다.\\n', '977는 홀수입니다.\\n', '978는 홀수입니다.\\n', '979는 홀수입니다.\\n', '980는 홀수입니다.\\n', '981는 홀수입니다.\\n', '982는 홀수입니다.\\n', '983는 홀수입니다.\\n', '984는 홀수입니다.\\n', '985는 홀수입니다.\\n', '986는 홀수입니다.\\n', '987는 홀수입니다.\\n', '988는 홀수입니다.\\n', '989는 홀수입니다.\\n', '990는 홀수입니다.\\n', '991는 홀수입니다.\\n', '992는 홀수입니다.\\n', '993는 홀수입니다.\\n', '994는 홀수입니다.\\n', '995는 홀수입니다.\\n', '996는 홀수입니다.\\n', '997는 홀수입니다.\\n', '998는 홀수입니다.\\n', '999는 홀수입니다.\\n', '1000는 홀수입니다.\\n']\n"
          ]
        }
      ]
    },
    {
      "cell_type": "code",
      "source": [
        "#이거 무조건 해결하기\n",
        "\n",
        "def is_prime(n):\n",
        "  f=open(full_path,'w')\n",
        "  if n<2:\n",
        "    f.write(\"%d는 홀수가 아닙니다.\\n\" %n)\n",
        "  for i in range(2, int(n**0.5)+1):\n",
        "    if n%1==0:\n",
        "      f.write(\"%d는 홀수가 아닙니다.\\n\" %n)\n",
        "    f.write(\"%d는 홀수입니다.\\n\" %n)\n",
        "  f.close()\n",
        "\n",
        "for i in range(1,1001):\n",
        "  is_prime(i)\n",
        "\n",
        "f=open(full_path,\"r\")\n",
        "lines=f.readlines()\n",
        "print(lines)\n",
        "f.close()"
      ],
      "metadata": {
        "colab": {
          "base_uri": "https://localhost:8080/"
        },
        "id": "uOxxd7OO-Cv3",
        "outputId": "e370fc3b-6bb9-40a4-ea5c-e46f77105882"
      },
      "execution_count": 56,
      "outputs": [
        {
          "output_type": "stream",
          "name": "stdout",
          "text": [
            "['1000는 홀수가 아닙니다.\\n', '1000는 홀수입니다.\\n', '1000는 홀수가 아닙니다.\\n', '1000는 홀수입니다.\\n', '1000는 홀수가 아닙니다.\\n', '1000는 홀수입니다.\\n', '1000는 홀수가 아닙니다.\\n', '1000는 홀수입니다.\\n', '1000는 홀수가 아닙니다.\\n', '1000는 홀수입니다.\\n', '1000는 홀수가 아닙니다.\\n', '1000는 홀수입니다.\\n', '1000는 홀수가 아닙니다.\\n', '1000는 홀수입니다.\\n', '1000는 홀수가 아닙니다.\\n', '1000는 홀수입니다.\\n', '1000는 홀수가 아닙니다.\\n', '1000는 홀수입니다.\\n', '1000는 홀수가 아닙니다.\\n', '1000는 홀수입니다.\\n', '1000는 홀수가 아닙니다.\\n', '1000는 홀수입니다.\\n', '1000는 홀수가 아닙니다.\\n', '1000는 홀수입니다.\\n', '1000는 홀수가 아닙니다.\\n', '1000는 홀수입니다.\\n', '1000는 홀수가 아닙니다.\\n', '1000는 홀수입니다.\\n', '1000는 홀수가 아닙니다.\\n', '1000는 홀수입니다.\\n', '1000는 홀수가 아닙니다.\\n', '1000는 홀수입니다.\\n', '1000는 홀수가 아닙니다.\\n', '1000는 홀수입니다.\\n', '1000는 홀수가 아닙니다.\\n', '1000는 홀수입니다.\\n', '1000는 홀수가 아닙니다.\\n', '1000는 홀수입니다.\\n', '1000는 홀수가 아닙니다.\\n', '1000는 홀수입니다.\\n', '1000는 홀수가 아닙니다.\\n', '1000는 홀수입니다.\\n', '1000는 홀수가 아닙니다.\\n', '1000는 홀수입니다.\\n', '1000는 홀수가 아닙니다.\\n', '1000는 홀수입니다.\\n', '1000는 홀수가 아닙니다.\\n', '1000는 홀수입니다.\\n', '1000는 홀수가 아닙니다.\\n', '1000는 홀수입니다.\\n', '1000는 홀수가 아닙니다.\\n', '1000는 홀수입니다.\\n', '1000는 홀수가 아닙니다.\\n', '1000는 홀수입니다.\\n', '1000는 홀수가 아닙니다.\\n', '1000는 홀수입니다.\\n', '1000는 홀수가 아닙니다.\\n', '1000는 홀수입니다.\\n', '1000는 홀수가 아닙니다.\\n', '1000는 홀수입니다.\\n']\n"
          ]
        }
      ]
    },
    {
      "cell_type": "code",
      "source": [
        "def is_prime(n):\n",
        "  f=open(full_path,'w')\n",
        "  if n<2:\n",
        "    f.write(\"%d는 홀수가 아닙니다.\\n\" %n)\n",
        "  for i in range(2, int(n**0.5)+1):\n",
        "    if n%1==0:\n",
        "      f.write(\"%d는 홀수가 아닙니다.\\n\" %n)\n",
        "    f.write(\"%d는 홀수입니다.\\n\" %n)\n",
        "  f.close()\n",
        "\n",
        "print(is_prime(5))"
      ],
      "metadata": {
        "colab": {
          "base_uri": "https://localhost:8080/"
        },
        "id": "fbz2r2xJ_nv9",
        "outputId": "ba399509-062f-4162-c9c4-c547fbee58f5"
      },
      "execution_count": 58,
      "outputs": [
        {
          "output_type": "stream",
          "name": "stdout",
          "text": [
            "None\n"
          ]
        }
      ]
    }
  ]
}