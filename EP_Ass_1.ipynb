{
  "nbformat": 4,
  "nbformat_minor": 0,
  "metadata": {
    "colab": {
      "provenance": [],
      "include_colab_link": true
    },
    "kernelspec": {
      "name": "python3",
      "display_name": "Python 3"
    },
    "language_info": {
      "name": "python"
    }
  },
  "cells": [
    {
      "cell_type": "markdown",
      "metadata": {
        "id": "view-in-github",
        "colab_type": "text"
      },
      "source": [
        "<a href=\"https://colab.research.google.com/github/tmddus1123/E.P-M.W-C.E./blob/main/EP_Ass_1.ipynb\" target=\"_parent\"><img src=\"https://colab.research.google.com/assets/colab-badge.svg\" alt=\"Open In Colab\"/></a>"
      ]
    },
    {
      "cell_type": "markdown",
      "source": [
        "# This is Assignment #1 of \"Introduction to Engineering Computer Programming\""
      ],
      "metadata": {
        "id": "ExW3fDnx20Fd"
      }
    },
    {
      "cell_type": "markdown",
      "source": [
        "1. Write a function called `find_largest` that takes a list of integers as input and returns the largest integer in the list. Test your function with a list of integers, `a = [1, 5, 8, 2, 9, 10, 4]`.\n",
        "\n",
        "* hint: use `max` function"
      ],
      "metadata": {
        "id": "bXHCcMMmu9Dl"
      }
    },
    {
      "cell_type": "code",
      "source": [
        "#solution = 차례대로 정렬 -> pop함수로 뺴내면 ok (pop()으로 해도되고 pop(x)로 해도됨)"
      ],
      "metadata": {
        "id": "cOEWmm4AnrIZ"
      },
      "execution_count": null,
      "outputs": []
    },
    {
      "cell_type": "code",
      "source": [
        "# Write your code here and prouce the result\n",
        "def find_largest(a):\n",
        "  return max(a)\n",
        "\n",
        "\n",
        "a=[1,5,8,2,9,10,4]\n",
        "print(find_largest(a))\n",
        "\n",
        "\n",
        "\n",
        "# 우리가 앞에서 배운 pop, sort 함수를 이용하여 아래처럼 이 문제를 풀수도 있습니다.  \n",
        "# a=[1,5,8,2,9,10,4]\n",
        "\n",
        "# def find_largest(a):\n",
        "#   a.sort()\n",
        "#   return a.pop()\n",
        "  \n",
        "# print(find_largest(a))\n",
        "\n",
        "# pop()을 쓰는게 아니라 pop(7)을 사용하여\n",
        "# a=[1,5,8,2,9,10,4]\n",
        "\n",
        "# def find_largest(a):\n",
        "#   a.sort()\n",
        "#   return a.pop()\n",
        "  \n",
        "# print(find_largest(a))\n",
        "\n",
        "# 으로 해도 가능합니다.\n",
        " "
      ],
      "metadata": {
        "id": "WQct1xF2vXq-",
        "outputId": "c9b132ca-a441-4bf0-e4ba-6f4526710dc3",
        "colab": {
          "base_uri": "https://localhost:8080/"
        }
      },
      "execution_count": 3,
      "outputs": [
        {
          "output_type": "stream",
          "name": "stdout",
          "text": [
            "10\n"
          ]
        }
      ]
    },
    {
      "cell_type": "markdown",
      "source": [
        "2. Write a function called `count_vowels` that takes a string as input and returns the count of vowels (a, e, i, o, u) in the string. Test your function with `\"Hello World!\"`\n",
        "\n",
        "* hint: use `for` and `if`"
      ],
      "metadata": {
        "id": "7eVyT1ypvQm5"
      }
    },
    {
      "cell_type": "code",
      "execution_count": null,
      "metadata": {
        "id": "9Q8h2B45u4d6"
      },
      "outputs": [],
      "source": [
        "# Write your code here and prouce the result\n",
        "def count_vowels(a):\n",
        "  for "
      ]
    },
    {
      "cell_type": "markdown",
      "source": [
        "3. Write a function called `convert_temperature` that takes a temperature value in Fahrenheit and converts it to Celsius. The function should return the converted temperature value. Test your function with different Fahrenheit values.\n",
        "\n",
        "* hint: `celsius = (fahrenheit - 32) * 5 / 9`"
      ],
      "metadata": {
        "id": "tBgqsqLpvomE"
      }
    },
    {
      "cell_type": "code",
      "source": [
        "# Write your code here and prouce the result\n",
        "def convert_temperature(a):\n",
        "  b=(a+-32)*5/9 #이거 뭐가 문제임?????\n",
        "  print(\"\\ntemperature value in Fahrenheit은 %s 입니다.\" %b) \n",
        "\n",
        "a=int(input(\"temperature value in Fahrenheit을 입력하세요. : \"))\n",
        "convert_temperature(a)"
      ],
      "metadata": {
        "id": "XhRFdMAGv6Om",
        "outputId": "966e07e1-b966-4e86-e1b0-e11e5c967839",
        "colab": {
          "base_uri": "https://localhost:8080/"
        }
      },
      "execution_count": 28,
      "outputs": [
        {
          "output_type": "stream",
          "name": "stdout",
          "text": [
            "temperature value in Fahrenheit을 입력하세요 : 90\n",
            "\n",
            "temperature value in Fahrenheit은 32.22222222222222 입니다.\n"
          ]
        }
      ]
    },
    {
      "cell_type": "markdown",
      "source": [
        "4. Write a function called grade_calculator that takes a list of student scores as input and returns a list of letter grades (A, B, C, D, or F) based on the following criteria:\n",
        "\n",
        " * A: 90-100\n",
        " * B: 80-89\n",
        " * C: 70-79\n",
        " * D: 60-69\n",
        " * F: 0-59\n",
        "\n",
        "Test your function with a list of student scores, `scores = [85, 92, 75, 60, 45]`.\n",
        "\n",
        " * hint: use `if`, `elif`, and `else`"
      ],
      "metadata": {
        "id": "Ax2N-gBvw6gk"
      }
    },
    {
      "cell_type": "code",
      "source": [
        "# Write your code here and prouce the result\n",
        "def grade_calculator(a):\n",
        "  if 90 <= a <= 100:\n",
        "    print(\"\\nA 입니다.\")\n",
        "  elif 80 <= a < 90:\n",
        "    print(\"\\nB 입니다.\")\n",
        "  elif 70 <= a < 80:\n",
        "    print(\"\\nC 입니다.\")\n",
        "  elif 60 <= a < 70:\n",
        "    print(\"\\nD 입니다.\")\n",
        "  else:\n",
        "    print(\"\\nF 입니다.\")\n",
        "\n",
        "a=int(input(\"학생의 점수는 몇점입니까? : \"))\n",
        "grade_calculator(a)"
      ],
      "metadata": {
        "id": "GDEi8iL7w4ee",
        "outputId": "ae2dd2cd-2144-4d85-b3b7-6e6b6e5d4c89",
        "colab": {
          "base_uri": "https://localhost:8080/"
        }
      },
      "execution_count": 22,
      "outputs": [
        {
          "output_type": "stream",
          "name": "stdout",
          "text": [
            "학생의 점수는 몇점입니까? : 90\n",
            "\n",
            "A 입니다.\n"
          ]
        }
      ]
    },
    {
      "cell_type": "markdown",
      "source": [
        "5. Write a function called `common_elements` that takes two lists as input and returns a list of the common elements (without duplicates) between the two lists. Test your function with two different pairs of lists, `[1, 3, 5, 7, 9]` and `[2, 3, 4, 5, 6]`.\n",
        "\n",
        "* hint: use `set` and `&`"
      ],
      "metadata": {
        "id": "kSk4V_j4ykJP"
      }
    },
    {
      "cell_type": "code",
      "source": [
        "# Write your code here and prouce the result\n",
        "def common_elements(a,b):\n",
        "  s1=set(a)\n",
        "  s2=set(b)\n",
        "  m=s1 & s2\n",
        "  n=list(m)\n",
        "  return n\n",
        "\n",
        "a=[1,3,5,7,9]\n",
        "b=[2,3,4,5,6,]\n",
        "common_elements(a,b)"
      ],
      "metadata": {
        "id": "KpO2_1bNyjlD",
        "outputId": "fc3021b5-44fa-48a7-e31a-1c7066602fbf",
        "colab": {
          "base_uri": "https://localhost:8080/"
        }
      },
      "execution_count": 36,
      "outputs": [
        {
          "output_type": "execute_result",
          "data": {
            "text/plain": [
              "[3, 5]"
            ]
          },
          "metadata": {},
          "execution_count": 36
        }
      ]
    },
    {
      "cell_type": "markdown",
      "source": [
        "6. Write a Python to check if a given number is even or odd using control statements.\n",
        "\n",
        "* hint: use `num % 2 == 0`"
      ],
      "metadata": {
        "id": "ntSpzCg62pfl"
      }
    },
    {
      "cell_type": "code",
      "source": [
        "# Write your code here and prouce the result\n",
        "def check_evenodd(a):\n",
        "  if a % 2 == 0:\n",
        "    print(\"\\n%d는 짝수입니다.\" %a)\n",
        "  else:\n",
        "    print(\"%\\nd는 홀수입니다.\" %a)\n",
        "\n",
        "a=int(input(\"숫자를 입력하세요. : \"))\n",
        "check_evenodd(a)"
      ],
      "metadata": {
        "id": "R_NvgRrj3RKW",
        "outputId": "73a1b073-b0af-4548-c0f4-f6f6d5808e4c",
        "colab": {
          "base_uri": "https://localhost:8080/"
        }
      },
      "execution_count": 38,
      "outputs": [
        {
          "output_type": "stream",
          "name": "stdout",
          "text": [
            "숫자를 입력하세요. : 80\n",
            "\n",
            "80는 짝수입니다.\n"
          ]
        }
      ]
    },
    {
      "cell_type": "markdown",
      "source": [
        "7. Write a Python program to find the sum of all elements in a list using loops. Test your program with a list, `numbers = [10, 20, 30, 40, 50]`.\n",
        "\n",
        "* hint: use `for` and `+=`"
      ],
      "metadata": {
        "id": "WBogUGrf3giN"
      }
    },
    {
      "cell_type": "code",
      "source": [
        "# Write your code here and prouce the result\n"
      ],
      "metadata": {
        "id": "30e3ku5t31ik"
      },
      "execution_count": null,
      "outputs": []
    },
    {
      "cell_type": "markdown",
      "source": [
        "8. Write a Python program to find the number of digits (자릿수) in a given integer using functions.\n",
        "\n",
        "* hint: for a given integer `num`, use the following code.\n",
        "    \n",
        "```python\n",
        "    while num != 0:\n",
        "        count += 1\n",
        "        num //= 10\n",
        "    return count\n",
        "```\n",
        "* `//` is for Floor division (나눗셈의 몫을 내림, 예 7 // 2 = 3)"
      ],
      "metadata": {
        "id": "EUJQSZCv4c35"
      }
    },
    {
      "cell_type": "code",
      "source": [
        "# Write your code here and prouce the result"
      ],
      "metadata": {
        "id": "x7dsB2PZ4L_T"
      },
      "execution_count": null,
      "outputs": []
    },
    {
      "cell_type": "markdown",
      "source": [
        "9. Complete the following Python program to reverse a given string using loops.\n",
        "\n",
        "* hint: read each character from the string by using `for` and add (`+`) one by one in sequence."
      ],
      "metadata": {
        "id": "lWHVIEjOA3bV"
      }
    },
    {
      "cell_type": "code",
      "source": [
        "# Complete the following python code and prouce the result\n",
        "\n",
        "string = input(\"Enter a string: \")\n",
        "reverse = \"\"\n",
        "for char in string:\n",
        "    ### write a code here ###\n",
        "    \n",
        "print(\"Reverse of the string:\", reverse)"
      ],
      "metadata": {
        "id": "3qBhrc1wBj2T"
      },
      "execution_count": null,
      "outputs": []
    },
    {
      "cell_type": "markdown",
      "source": [
        "10. Write a function called `is_perfect_square` that check if a given number is a perfect square (완전제곱수) or not. Test your function with different numbers.\n",
        "\n",
        "* hint: use `sqrt` (제곱근) from `math` and check if the number has decimal points or not."
      ],
      "metadata": {
        "id": "6V5Fma7PCUMd"
      }
    },
    {
      "cell_type": "code",
      "source": [
        "# Complete the following python code and prouce the result\n",
        "\n",
        "import math\n",
        "\n",
        "def is_perfect_square(num):\n",
        "    sqrt = math.sqrt(num)\n",
        "    "
      ],
      "metadata": {
        "id": "uzrOFUHEDdE2"
      },
      "execution_count": null,
      "outputs": []
    }
  ]
}