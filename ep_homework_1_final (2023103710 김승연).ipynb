{
  "nbformat": 4,
  "nbformat_minor": 0,
  "metadata": {
    "colab": {
      "provenance": [],
      "include_colab_link": true
    },
    "kernelspec": {
      "name": "python3",
      "display_name": "Python 3"
    },
    "language_info": {
      "name": "python"
    }
  },
  "cells": [
    {
      "cell_type": "markdown",
      "metadata": {
        "id": "view-in-github",
        "colab_type": "text"
      },
      "source": [
        "<a href=\"https://colab.research.google.com/github/tmddus1123/E.P-M.W-C.E./blob/main/ep_homework_1_final%20(2023103710%20%EA%B9%80%EC%8A%B9%EC%97%B0).ipynb\" target=\"_parent\"><img src=\"https://colab.research.google.com/assets/colab-badge.svg\" alt=\"Open In Colab\"/></a>"
      ]
    },
    {
      "cell_type": "markdown",
      "source": [
        "# This is Assignment #1 of \"Introduction to Engineering Computer Programming\""
      ],
      "metadata": {
        "id": "ExW3fDnx20Fd"
      }
    },
    {
      "cell_type": "markdown",
      "source": [
        "1. Write a function called `find_largest` that takes a list of integers as input and returns the largest integer in the list. Test your function with a list of integers, `a = [1, 5, 8, 2, 9, 10, 4]`.\n",
        "\n",
        "* hint: use `max` function"
      ],
      "metadata": {
        "id": "bXHCcMMmu9Dl"
      }
    },
    {
      "cell_type": "code",
      "source": [
        "# Write your code here and prouce the result - solution 1\n",
        "def find_largest(a):\n",
        "  return max(a)\n",
        "\n",
        "\n",
        "a=[1,5,8,2,9,10,4]\n",
        "print(find_largest(a)) "
      ],
      "metadata": {
        "id": "WQct1xF2vXq-",
        "colab": {
          "base_uri": "https://localhost:8080/"
        },
        "outputId": "e655eea3-7f4b-400e-df56-d6d24bd93870"
      },
      "execution_count": 19,
      "outputs": [
        {
          "output_type": "stream",
          "name": "stdout",
          "text": [
            "10\n"
          ]
        }
      ]
    },
    {
      "cell_type": "code",
      "source": [
        "# Write your code here and prouce the result - solution 2 \n",
        "a=[1,5,8,2,9,10,4]\n",
        "\n",
        "def find_largest(a):\n",
        "  a.sort()\n",
        "  return a.pop()\n",
        "  \n",
        "print(find_largest(a))"
      ],
      "metadata": {
        "id": "WSGG0lhAru1C",
        "outputId": "6d0ed3ea-f4a4-4fbc-ca83-97fba5b07658",
        "colab": {
          "base_uri": "https://localhost:8080/"
        }
      },
      "execution_count": null,
      "outputs": [
        {
          "output_type": "stream",
          "name": "stdout",
          "text": [
            "10\n"
          ]
        }
      ]
    },
    {
      "cell_type": "code",
      "source": [
        "# Write your code here and prouce the result - solution 3\n",
        "a=[1,5,8,2,9,10,4]\n",
        "\n",
        "def find_largest(a):\n",
        "  a.sort()\n",
        "  return a.pop(6)\n",
        "  \n",
        "print(find_largest(a))"
      ],
      "metadata": {
        "id": "EXfXZxIor_Nt",
        "outputId": "8d5f3593-cd1c-4102-ce27-27ceec2624e6",
        "colab": {
          "base_uri": "https://localhost:8080/"
        }
      },
      "execution_count": null,
      "outputs": [
        {
          "output_type": "stream",
          "name": "stdout",
          "text": [
            "10\n"
          ]
        }
      ]
    },
    {
      "cell_type": "code",
      "source": [
        "# Write your code here and prouce the result - solution 4\n",
        "a=[1,5,8,2,9,10,4]\n",
        "\n",
        "def find_largest(a):\n",
        "  result=0\n",
        "  for i in a:\n",
        "    if result < i:\n",
        "      result=i\n",
        "  return result\n",
        "  \n",
        "print(find_largest(a))"
      ],
      "metadata": {
        "colab": {
          "base_uri": "https://localhost:8080/"
        },
        "id": "ssR2ts5qq_UR",
        "outputId": "70895287-4637-4671-ad84-9a59bc977b85"
      },
      "execution_count": 26,
      "outputs": [
        {
          "output_type": "stream",
          "name": "stdout",
          "text": [
            "10\n"
          ]
        }
      ]
    },
    {
      "cell_type": "markdown",
      "source": [
        "2. Write a function called `count_vowels` that takes a string as input and returns the count of vowels (a, e, i, o, u) in the string. Test your function with `\"Hello World!\"`\n",
        "\n",
        "* hint: use `for` and `if`"
      ],
      "metadata": {
        "id": "7eVyT1ypvQm5"
      }
    },
    {
      "cell_type": "code",
      "execution_count": null,
      "metadata": {
        "id": "9Q8h2B45u4d6",
        "colab": {
          "base_uri": "https://localhost:8080/"
        },
        "outputId": "c8875dae-9183-42ce-cdcd-75ce25116285"
      },
      "outputs": [
        {
          "output_type": "stream",
          "name": "stdout",
          "text": [
            "a의 개수는 0입니다.\n",
            "\n",
            "e의 개수는 1입니다.\n",
            "\n",
            "i의 개수는 0입니다.\n",
            "\n",
            "o의 개수는 2입니다.\n",
            "\n",
            "u의 개수는 0입니다.\n",
            "\n"
          ]
        }
      ],
      "source": [
        "# Write your code here and prouce the result\n",
        "def count_vowels(a):\n",
        "  vowels=[\"a\",\"e\",\"i\",\"o\",\"u\"]\n",
        "  for i in vowels:\n",
        "    m=a.count(i)\n",
        "    print(\"%s의 개수는 %d입니다.\\n\" %(i,m))\n",
        "\n",
        "a=\"hello world!\"\n",
        "count_vowels(a)"
      ]
    },
    {
      "cell_type": "markdown",
      "source": [
        "3. Write a function called `convert_temperature` that takes a temperature value in Fahrenheit and converts it to Celsius. The function should return the converted temperature value. Test your function with different Fahrenheit values.\n",
        "\n",
        "* hint: `celsius = (fahrenheit - 32) * 5 / 9`"
      ],
      "metadata": {
        "id": "tBgqsqLpvomE"
      }
    },
    {
      "cell_type": "code",
      "source": [
        "# Write your code here and prouce the result\n",
        "def convert_temperature(a):\n",
        "  b=(a+-32)*5/9 #이거 뭐가 문제임?????\n",
        "  print(\"\\ntemperature value in Fahrenheit은 %s 입니다.\" %b) \n",
        "\n",
        "a=int(input(\"temperature value in Fahrenheit을 입력하세요. : \"))\n",
        "convert_temperature(a)"
      ],
      "metadata": {
        "id": "XhRFdMAGv6Om",
        "colab": {
          "base_uri": "https://localhost:8080/"
        },
        "outputId": "966e07e1-b966-4e86-e1b0-e11e5c967839"
      },
      "execution_count": null,
      "outputs": [
        {
          "output_type": "stream",
          "name": "stdout",
          "text": [
            "temperature value in Fahrenheit을 입력하세요 : 90\n",
            "\n",
            "temperature value in Fahrenheit은 32.22222222222222 입니다.\n"
          ]
        }
      ]
    },
    {
      "cell_type": "markdown",
      "source": [
        "4. Write a function called grade_calculator that takes a list of student scores as input and returns a list of letter grades (A, B, C, D, or F) based on the following criteria:\n",
        "\n",
        " * A: 90-100\n",
        " * B: 80-89\n",
        " * C: 70-79\n",
        " * D: 60-69\n",
        " * F: 0-59\n",
        "\n",
        "Test your function with a list of student scores, `scores = [85, 92, 75, 60, 45]`.\n",
        "\n",
        " * hint: use `if`, `elif`, and `else`"
      ],
      "metadata": {
        "id": "Ax2N-gBvw6gk"
      }
    },
    {
      "cell_type": "code",
      "source": [
        "# Write your code here and prouce the result\n",
        "def grade_calculator(a):\n",
        "  if 90 <= a <= 100:\n",
        "    print(\"\\nA 입니다.\")\n",
        "  elif 80 <= a < 90:\n",
        "    print(\"\\nB 입니다.\")\n",
        "  elif 70 <= a < 80:\n",
        "    print(\"\\nC 입니다.\")\n",
        "  elif 60 <= a < 70:\n",
        "    print(\"\\nD 입니다.\")\n",
        "  else:\n",
        "    print(\"\\nF 입니다.\")\n",
        "\n",
        "a=int(input(\"학생의 점수는 몇점입니까? : \"))\n",
        "grade_calculator(a)"
      ],
      "metadata": {
        "id": "GDEi8iL7w4ee",
        "colab": {
          "base_uri": "https://localhost:8080/"
        },
        "outputId": "ae2dd2cd-2144-4d85-b3b7-6e6b6e5d4c89"
      },
      "execution_count": null,
      "outputs": [
        {
          "output_type": "stream",
          "name": "stdout",
          "text": [
            "학생의 점수는 몇점입니까? : 90\n",
            "\n",
            "A 입니다.\n"
          ]
        }
      ]
    },
    {
      "cell_type": "markdown",
      "source": [
        "5. Write a function called `common_elements` that takes two lists as input and returns a list of the common elements (without duplicates) between the two lists. Test your function with two different pairs of lists, `[1, 3, 5, 7, 9]` and `[2, 3, 4, 5, 6]`.\n",
        "\n",
        "* hint: use `set` and `&`"
      ],
      "metadata": {
        "id": "kSk4V_j4ykJP"
      }
    },
    {
      "cell_type": "code",
      "source": [
        "# Write your code here and prouce the result\n",
        "def common_elements(a,b):\n",
        "  s1=set(a)\n",
        "  s2=set(b)\n",
        "  m=s1 & s2\n",
        "  n=list(m)\n",
        "  return n\n",
        "\n",
        "a=[1,3,5,7,9]\n",
        "b=[2,3,4,5,6,]\n",
        "common_elements(a,b)"
      ],
      "metadata": {
        "id": "KpO2_1bNyjlD",
        "colab": {
          "base_uri": "https://localhost:8080/"
        },
        "outputId": "fc3021b5-44fa-48a7-e31a-1c7066602fbf"
      },
      "execution_count": null,
      "outputs": [
        {
          "output_type": "execute_result",
          "data": {
            "text/plain": [
              "[3, 5]"
            ]
          },
          "metadata": {},
          "execution_count": 36
        }
      ]
    },
    {
      "cell_type": "markdown",
      "source": [
        "6. Write a Python to check if a given number is even or odd using control statements.\n",
        "\n",
        "* hint: use `num % 2 == 0`"
      ],
      "metadata": {
        "id": "ntSpzCg62pfl"
      }
    },
    {
      "cell_type": "code",
      "source": [
        "# Write your code here and prouce the result\n",
        "def check_evenodd(a):\n",
        "  if a % 2 == 0:\n",
        "    print(\"\\n%d는 짝수입니다.\" %a)\n",
        "  else:\n",
        "    print(\"%\\nd는 홀수입니다.\" %a)\n",
        "\n",
        "a=int(input(\"숫자를 입력하세요. : \"))\n",
        "check_evenodd(a)"
      ],
      "metadata": {
        "id": "R_NvgRrj3RKW",
        "colab": {
          "base_uri": "https://localhost:8080/"
        },
        "outputId": "73a1b073-b0af-4548-c0f4-f6f6d5808e4c"
      },
      "execution_count": null,
      "outputs": [
        {
          "output_type": "stream",
          "name": "stdout",
          "text": [
            "숫자를 입력하세요. : 80\n",
            "\n",
            "80는 짝수입니다.\n"
          ]
        }
      ]
    },
    {
      "cell_type": "markdown",
      "source": [
        "7. Write a Python program to find the sum of all elements in a list using loops. Test your program with a list, `numbers = [10, 20, 30, 40, 50]`.\n",
        "\n",
        "* hint: use `for` and `+=`"
      ],
      "metadata": {
        "id": "WBogUGrf3giN"
      }
    },
    {
      "cell_type": "code",
      "source": [
        "# Write your code here and prouce the result - solution 1\n",
        "numbers=[10,20,30,40,50]\n",
        "result=0\n",
        "for i in numbers:\n",
        "    result+=i\n",
        "\n",
        "print(result)\n",
        "#sum_element(numbers)\n",
        "\n",
        "#sum()함수를 이용하면 더 쉽게 풀 수 있음음"
      ],
      "metadata": {
        "id": "30e3ku5t31ik",
        "colab": {
          "base_uri": "https://localhost:8080/"
        },
        "outputId": "85841c8b-e580-4fe7-99a7-6dcdad87eb62"
      },
      "execution_count": null,
      "outputs": [
        {
          "output_type": "stream",
          "name": "stdout",
          "text": [
            "150\n"
          ]
        }
      ]
    },
    {
      "cell_type": "code",
      "source": [
        "# Write your code here and prouce the result - solution 2\n",
        "def sum_element(*a):\n",
        "  result=0\n",
        "  for i in a:\n",
        "    result+=sum(i)\n",
        "  return result\n",
        "\n",
        "numbers=[10,20,30,40,50]\n",
        "sum_element(numbers)"
      ],
      "metadata": {
        "id": "UZs4p32YuzN9",
        "outputId": "bd810700-716c-45da-a1c7-14c94fa38eb5",
        "colab": {
          "base_uri": "https://localhost:8080/"
        }
      },
      "execution_count": null,
      "outputs": [
        {
          "output_type": "execute_result",
          "data": {
            "text/plain": [
              "150"
            ]
          },
          "metadata": {},
          "execution_count": 39
        }
      ]
    },
    {
      "cell_type": "code",
      "source": [
        "# Write your code here and prouce the result - solution 3\n",
        "numbers=[10,20,30,40,50]\n",
        "print(sum(numbers))"
      ],
      "metadata": {
        "id": "7Ear604LwFnf",
        "outputId": "70d140e1-d2e1-4f86-8890-d831361d7a21",
        "colab": {
          "base_uri": "https://localhost:8080/"
        }
      },
      "execution_count": null,
      "outputs": [
        {
          "output_type": "stream",
          "name": "stdout",
          "text": [
            "150\n"
          ]
        }
      ]
    },
    {
      "cell_type": "code",
      "source": [
        "# Write your code here and prouce the result - solution 3\n",
        "def sum_element(a):\n",
        "  result=0\n",
        "  for i in a:\n",
        "    result+=i\n",
        "  return result\n",
        "\n",
        "numbers=[10,20,30,40,50]\n",
        "sum_element(numbers)"
      ],
      "metadata": {
        "id": "DlqFhdCHsczo",
        "outputId": "194fc0b2-4a3a-4d51-bd39-bf0838d4515d",
        "colab": {
          "base_uri": "https://localhost:8080/"
        }
      },
      "execution_count": 20,
      "outputs": [
        {
          "output_type": "execute_result",
          "data": {
            "text/plain": [
              "150"
            ]
          },
          "metadata": {},
          "execution_count": 20
        }
      ]
    },
    {
      "cell_type": "markdown",
      "source": [
        "8. Write a Python program to find the number of digits (자릿수) in a given integer using functions.\n",
        "\n",
        "* hint: for a given integer `num`, use the following code.\n",
        "    \n",
        "```python\n",
        "    while num != 0:\n",
        "        count += 1\n",
        "        num //= 10\n",
        "    return count\n",
        "```\n",
        "* `//` is for Floor division (나눗셈의 몫을 내림, 예 7 // 2 = 3)"
      ],
      "metadata": {
        "id": "EUJQSZCv4c35"
      }
    },
    {
      "cell_type": "code",
      "source": [
        "# Write your code here and prouce the result\n",
        "def check_digits(num):\n",
        "  count=0\n",
        "  while num != 0:\n",
        "    count +=1\n",
        "    num //= 10\n",
        "  return count\n",
        "\n",
        "a=int(input(\"숫자를 입력하세요 : \"))\n",
        "check_digits(a)"
      ],
      "metadata": {
        "id": "x7dsB2PZ4L_T",
        "colab": {
          "base_uri": "https://localhost:8080/"
        },
        "outputId": "bc326491-dd6d-492c-d3fc-9346dad72d27"
      },
      "execution_count": null,
      "outputs": [
        {
          "name": "stdout",
          "output_type": "stream",
          "text": [
            "숫자를 입력하세요 : 80\n"
          ]
        },
        {
          "output_type": "execute_result",
          "data": {
            "text/plain": [
              "2"
            ]
          },
          "metadata": {},
          "execution_count": 54
        }
      ]
    },
    {
      "cell_type": "markdown",
      "source": [
        "9. Complete the following Python program to reverse a given string using loops.\n",
        "\n",
        "* hint: read each character from the string by using `for` and add (`+`) one by one in sequence."
      ],
      "metadata": {
        "id": "lWHVIEjOA3bV"
      }
    },
    {
      "cell_type": "code",
      "source": [
        "# Complete the following python code and prouce the result\n",
        "\n",
        "string = input(\"Enter a string: \")\n",
        "reverse = \"\"\n",
        "for char in string:\n",
        "  reverse = char + reverse\n",
        "  \n",
        "\n",
        "    ### write a code here ###\n",
        "    \n",
        "print(\"Reverse of the string :\", reverse)"
      ],
      "metadata": {
        "id": "3qBhrc1wBj2T",
        "colab": {
          "base_uri": "https://localhost:8080/"
        },
        "outputId": "7fd6053f-8f04-4cc8-ead9-3d8cb11a9f1a"
      },
      "execution_count": null,
      "outputs": [
        {
          "output_type": "stream",
          "name": "stdout",
          "text": [
            "Enter a string: hello\n",
            "Reverse of the string : olleh\n"
          ]
        }
      ]
    },
    {
      "cell_type": "markdown",
      "source": [
        "10. Write a function called `is_perfect_square` that check if a given number is a perfect square (완전제곱수) or not. Test your function with different numbers.\n",
        "\n",
        "* hint: use `sqrt` (제곱근) from `math` and check if the number has decimal points or not."
      ],
      "metadata": {
        "id": "6V5Fma7PCUMd"
      }
    },
    {
      "cell_type": "code",
      "source": [
        "# Complete the following python code and prouce the result\n",
        "\n",
        "import math\n",
        "\n",
        "def is_perfect_square(num):\n",
        "    sqrt = math.sqrt(num)\n",
        "    if sqrt / 1 < 0:\n",
        "      print(\"\\n완전제곱수가 아닙니다.\")\n",
        "    else:\n",
        "      print(\"\\n완전제곱수 입니다.\")\n",
        "\n",
        "a=int(input(\"숫자를 입력해 주세요 : \")) #도대체 이거 왜 오류 뜨는거임?\n",
        "is_perfect_square(a)"
      ],
      "metadata": {
        "id": "uzrOFUHEDdE2",
        "colab": {
          "base_uri": "https://localhost:8080/"
        },
        "outputId": "915111b3-eb0a-4c5b-d5a3-2b2ef814027d"
      },
      "execution_count": null,
      "outputs": [
        {
          "output_type": "stream",
          "name": "stdout",
          "text": [
            "숫자를 입력해 주세요 : 5\n",
            "\n",
            "완전제곱수 입니다.\n"
          ]
        }
      ]
    }
  ]
}