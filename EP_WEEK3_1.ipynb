{
  "nbformat": 4,
  "nbformat_minor": 0,
  "metadata": {
    "colab": {
      "provenance": [],
      "authorship_tag": "ABX9TyON53EuelF3Ww1J/GSOyj+J",
      "include_colab_link": true
    },
    "kernelspec": {
      "name": "python3",
      "display_name": "Python 3"
    },
    "language_info": {
      "name": "python"
    }
  },
  "cells": [
    {
      "cell_type": "markdown",
      "metadata": {
        "id": "view-in-github",
        "colab_type": "text"
      },
      "source": [
        "<a href=\"https://colab.research.google.com/github/tmddus1123/E.P-M.W-C.E./blob/main/EP_WEEK3_1.ipynb\" target=\"_parent\"><img src=\"https://colab.research.google.com/assets/colab-badge.svg\" alt=\"Open In Colab\"/></a>"
      ]
    },
    {
      "cell_type": "code",
      "execution_count": 4,
      "metadata": {
        "colab": {
          "base_uri": "https://localhost:8080/"
        },
        "id": "e1ybnR_Fpx5Y",
        "outputId": "b287cec2-12a9-4f4f-9955-e90bdbb4cc67"
      },
      "outputs": [
        {
          "output_type": "stream",
          "name": "stdout",
          "text": [
            "enter a number: 12\n",
            "positive number\n"
          ]
        }
      ],
      "source": [
        "x = int(input(\"enter a number: \"))\n",
        "if x>0:\n",
        "  print(\"positive number\")\n",
        "elif x<0:\n",
        "  print(\"negatie number\")\n",
        "else:\n",
        "  print(\"zero\")"
      ]
    },
    {
      "cell_type": "code",
      "source": [
        "x = int(input(\"enter a number: \"))\n",
        "if x>0:\n",
        "  print(\"positive number\")\n",
        "elif x<0:\n",
        "  print(\"negatie number\")\n",
        "else:\n",
        "  print(\"zero\")"
      ],
      "metadata": {
        "colab": {
          "base_uri": "https://localhost:8080/"
        },
        "id": "cdBi63zBsO1m",
        "outputId": "1ade2348-6dfa-4d28-d66d-bf181c91d6f7"
      },
      "execution_count": 5,
      "outputs": [
        {
          "output_type": "stream",
          "name": "stdout",
          "text": [
            "enter a number: 0\n",
            "zero\n"
          ]
        }
      ]
    },
    {
      "cell_type": "code",
      "source": [
        "x = int(input(\"enter a number: \")) \n",
        "if x>0:\n",
        "  print(\"positive number\")\n",
        "elif x<0:\n",
        "  print(\"negatie number\")\n",
        "else:\n",
        "  print(\"zero\")"
      ],
      "metadata": {
        "colab": {
          "base_uri": "https://localhost:8080/",
          "height": 137
        },
        "id": "hTEbuQbmtBiW",
        "outputId": "fd2d1ae7-8505-4043-9e7e-1b33c49ab67a"
      },
      "execution_count": 10,
      "outputs": [
        {
          "output_type": "error",
          "ename": "SyntaxError",
          "evalue": "ignored",
          "traceback": [
            "\u001b[0;36m  File \u001b[0;32m\"<ipython-input-10-99772f228939>\"\u001b[0;36m, line \u001b[0;32m1\u001b[0m\n\u001b[0;31m    x = int(input(\"enter a number: \")) //int=정수\u001b[0m\n\u001b[0m        ^\u001b[0m\n\u001b[0;31mSyntaxError\u001b[0m\u001b[0;31m:\u001b[0m cannot assign to operator\n"
          ]
        }
      ]
    },
    {
      "cell_type": "code",
      "source": [
        "age = int(input(\"enter your age: \"))\n",
        "if age < 18:\n",
        "  print(\"you are not eligible to vote\")\n",
        "elif age >= 18 and age < 65:\n",
        "  print(\"you are eligible to vote\")\n",
        "else:print(\"you are eligible to vote, but not required to\")"
      ],
      "metadata": {
        "colab": {
          "base_uri": "https://localhost:8080/"
        },
        "id": "3iGq9GMrsRH9",
        "outputId": "e69d5d3a-d919-47e5-dc3a-3ef347e704a8"
      },
      "execution_count": 11,
      "outputs": [
        {
          "output_type": "stream",
          "name": "stdout",
          "text": [
            "enter your age: 21\n",
            "you are eligible to vote\n"
          ]
        }
      ]
    },
    {
      "cell_type": "code",
      "source": [
        "score = int(input(\"enter your test score\"))\n",
        "if score >= 90:\n",
        "  print(\"your got an a\")\n",
        "elif score >= 80:\n",
        "  print(\"you got a B\")\n",
        "elif score >= 70:\n",
        "  print(\"you got a C\")\n",
        "elif score >= 60:\n",
        "  print(\"you got a D\")\n",
        "else:\n",
        "  print(\"you failed the test\")"
      ],
      "metadata": {
        "colab": {
          "base_uri": "https://localhost:8080/"
        },
        "id": "Vq0NW6IFtpIk",
        "outputId": "485741fb-9540-4550-a373-41a36676bec9"
      },
      "execution_count": 12,
      "outputs": [
        {
          "output_type": "stream",
          "name": "stdout",
          "text": [
            "enter your test score100\n",
            "your got an a\n"
          ]
        }
      ]
    },
    {
      "cell_type": "code",
      "source": [
        "for i in range(2,10): #2-9\n",
        "  for j in range(1,10): #1-9\n",
        "    print(i*j,end=\" \")  #end=\" \"->옆에다 계속 하라는 이야기\n",
        "  print(' ') #' ' 다음줄로 넘어가라는 이야기\n",
        "#항상 줄 위치 잘 체크해두기"
      ],
      "metadata": {
        "colab": {
          "base_uri": "https://localhost:8080/"
        },
        "id": "5wQUG8VOuN7j",
        "outputId": "5f1c2447-99be-494a-acec-bccf495f9b46"
      },
      "execution_count": 14,
      "outputs": [
        {
          "output_type": "stream",
          "name": "stdout",
          "text": [
            "2 4 6 8 10 12 14 16 18  \n",
            "3 6 9 12 15 18 21 24 27  \n",
            "4 8 12 16 20 24 28 32 36  \n",
            "5 10 15 20 25 30 35 40 45  \n",
            "6 12 18 24 30 36 42 48 54  \n",
            "7 14 21 28 35 42 49 56 63  \n",
            "8 16 24 32 40 48 56 64 72  \n",
            "9 18 27 36 45 54 63 72 81  \n"
          ]
        }
      ]
    },
    {
      "cell_type": "code",
      "source": [
        "num=int(input(\"enter a number: \"))\n",
        "for i in range(1,10):\n",
        "  print(num,\"x\",i,\"=\",num*i)"
      ],
      "metadata": {
        "colab": {
          "base_uri": "https://localhost:8080/"
        },
        "id": "5j0mgspvxKBD",
        "outputId": "8afa2b59-9c05-40cb-f59b-3c5d2c230bb4"
      },
      "execution_count": 16,
      "outputs": [
        {
          "output_type": "stream",
          "name": "stdout",
          "text": [
            "enter a number: 2\n",
            "2 x 1 = 2\n",
            "2 x 2 = 4\n",
            "2 x 3 = 6\n",
            "2 x 4 = 8\n",
            "2 x 5 = 10\n",
            "2 x 6 = 12\n",
            "2 x 7 = 14\n",
            "2 x 8 = 16\n",
            "2 x 9 = 18\n"
          ]
        }
      ]
    },
    {
      "cell_type": "code",
      "source": [
        "num=int(input(\"enter a number: \"))\n",
        "if x<100:\n",
        "  for i in range(1,10):\n",
        "    print(num,\"x\",i,num*1)"
      ],
      "metadata": {
        "id": "mbFO_W8axwWP"
      },
      "execution_count": null,
      "outputs": []
    },
    {
      "cell_type": "code",
      "source": [
        "a=[1,2,3,4]\n",
        "result=[]\n",
        "for num in a: # num=변수 a=리스트\n",
        "  result.append(num*3) #result 라는 변수 뒤에 . 을 붙이고  append라는 한수를 붙이면 리스트 마지마에 num*3을 추가\n",
        "print(result)"
      ],
      "metadata": {
        "colab": {
          "base_uri": "https://localhost:8080/"
        },
        "id": "bS7bbwIlzHEg",
        "outputId": "cf7e2efc-1f96-4fcb-aef0-4d9af79c1059"
      },
      "execution_count": 17,
      "outputs": [
        {
          "output_type": "stream",
          "name": "stdout",
          "text": [
            "[3, 6, 9, 12]\n"
          ]
        }
      ]
    },
    {
      "cell_type": "code",
      "source": [
        "numbers=[1,2,3,4,5,6,7,8,9,10]\n",
        "squares=[x**2 for x in numbers if x%2 ==0] #**=승 \n",
        "print(squares)"
      ],
      "metadata": {
        "colab": {
          "base_uri": "https://localhost:8080/"
        },
        "id": "Pui-NsvY2tIi",
        "outputId": "a123c090-eee0-4b05-db20-263fc8c8f728"
      },
      "execution_count": 18,
      "outputs": [
        {
          "output_type": "stream",
          "name": "stdout",
          "text": [
            "[4, 16, 36, 64, 100]\n"
          ]
        }
      ]
    },
    {
      "cell_type": "code",
      "source": [
        "treehit=0\n",
        "while treehit<10:\n",
        "  treehit=treehit+1\n",
        "  print(\"나무를 %d번 찍었습니다.\" %treehit)\n",
        "  if treehit == 10:\n",
        "    print(\"나무 넘어갑니다\")"
      ],
      "metadata": {
        "colab": {
          "base_uri": "https://localhost:8080/"
        },
        "id": "6b8T17ic4WXm",
        "outputId": "ebd035fa-150d-430b-ac12-e16049276957"
      },
      "execution_count": 19,
      "outputs": [
        {
          "output_type": "stream",
          "name": "stdout",
          "text": [
            "나무를 1번 찍었습니다.\n",
            "나무를 2번 찍었습니다.\n",
            "나무를 3번 찍었습니다.\n",
            "나무를 4번 찍었습니다.\n",
            "나무를 5번 찍었습니다.\n",
            "나무를 6번 찍었습니다.\n",
            "나무를 7번 찍었습니다.\n",
            "나무를 8번 찍었습니다.\n",
            "나무를 9번 찍었습니다.\n",
            "나무를 10번 찍었습니다.\n",
            "나무 넘어갑니다\n"
          ]
        }
      ]
    },
    {
      "cell_type": "code",
      "source": [
        "coffee=10\n",
        "money=300\n",
        "while money:\n",
        "  print(\"돈을 받았으니 커피를 줍니다.\")\n",
        "  coffee=coffee-1\n",
        "  print(\"skadms jvldml diddms %d개 입니다.\" %coffee)\n",
        "  if coffee==0:\n",
        "    print(\"커피가 다 떨어졌습니다. 판매를 중지합니다\")\n",
        "    break"
      ],
      "metadata": {
        "colab": {
          "base_uri": "https://localhost:8080/"
        },
        "id": "Jb1uuGyH6dqL",
        "outputId": "46746f2e-5330-4c4a-f83d-d633b0f13bfa"
      },
      "execution_count": 20,
      "outputs": [
        {
          "output_type": "stream",
          "name": "stdout",
          "text": [
            "돈을 받았으니 커피를 줍니다.\n",
            "skadms jvldml diddms 9개 입니다.\n",
            "돈을 받았으니 커피를 줍니다.\n",
            "skadms jvldml diddms 8개 입니다.\n",
            "돈을 받았으니 커피를 줍니다.\n",
            "skadms jvldml diddms 7개 입니다.\n",
            "돈을 받았으니 커피를 줍니다.\n",
            "skadms jvldml diddms 6개 입니다.\n",
            "돈을 받았으니 커피를 줍니다.\n",
            "skadms jvldml diddms 5개 입니다.\n",
            "돈을 받았으니 커피를 줍니다.\n",
            "skadms jvldml diddms 4개 입니다.\n",
            "돈을 받았으니 커피를 줍니다.\n",
            "skadms jvldml diddms 3개 입니다.\n",
            "돈을 받았으니 커피를 줍니다.\n",
            "skadms jvldml diddms 2개 입니다.\n",
            "돈을 받았으니 커피를 줍니다.\n",
            "skadms jvldml diddms 1개 입니다.\n",
            "돈을 받았으니 커피를 줍니다.\n",
            "skadms jvldml diddms 0개 입니다.\n",
            "커피가 다 떨어졌습니다. 판매를 중지합니다\n"
          ]
        }
      ]
    }
  ]
}