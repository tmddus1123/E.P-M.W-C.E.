{
  "nbformat": 4,
  "nbformat_minor": 0,
  "metadata": {
    "colab": {
      "provenance": [],
      "authorship_tag": "ABX9TyOr5Gwe28DANaEyWRobH9Z7",
      "include_colab_link": true
    },
    "kernelspec": {
      "name": "python3",
      "display_name": "Python 3"
    },
    "language_info": {
      "name": "python"
    }
  },
  "cells": [
    {
      "cell_type": "markdown",
      "metadata": {
        "id": "view-in-github",
        "colab_type": "text"
      },
      "source": [
        "<a href=\"https://colab.research.google.com/github/tmddus1123/E.P-M.W-C.E./blob/main/Untitled0.ipynb\" target=\"_parent\"><img src=\"https://colab.research.google.com/assets/colab-badge.svg\" alt=\"Open In Colab\"/></a>"
      ]
    },
    {
      "cell_type": "code",
      "execution_count": 3,
      "metadata": {
        "colab": {
          "base_uri": "https://localhost:8080/"
        },
        "id": "R-5CemKm7uq5",
        "outputId": "582fdd7c-d9d5-4159-a392-6d0e94a90832"
      },
      "outputs": [
        {
          "output_type": "execute_result",
          "data": {
            "text/plain": [
              "7"
            ]
          },
          "metadata": {},
          "execution_count": 3
        }
      ],
      "source": [
        "def add(a,b):\n",
        "  result=a+b\n",
        "  return result\n",
        "#return 쓰는 이유 = 이거 없으면 답 안해줌. 즉 안에서 계산만 하고 결과 출력 안해줌\n",
        "a=add(3,4)\n",
        "a"
      ]
    },
    {
      "cell_type": "code",
      "source": [
        "def say():\n",
        "  return 'hi'\n",
        "\n",
        "a=say()\n",
        "a"
      ],
      "metadata": {
        "colab": {
          "base_uri": "https://localhost:8080/",
          "height": 35
        },
        "id": "XfJnG3Pn_kZi",
        "outputId": "a4c9b13f-0763-472c-c76f-5d39adf258ae"
      },
      "execution_count": 4,
      "outputs": [
        {
          "output_type": "execute_result",
          "data": {
            "text/plain": [
              "'hi'"
            ],
            "application/vnd.google.colaboratory.intrinsic+json": {
              "type": "string"
            }
          },
          "metadata": {},
          "execution_count": 4
        }
      ]
    },
    {
      "cell_type": "code",
      "source": [
        "def add(a,b):\n",
        "  print(\"%d과 %d의 합은 %d입니다.\" %(a,b,a+b))\n",
        "\n",
        "a=add(3,4)\n",
        "print(a)\n",
        "#왜 none? "
      ],
      "metadata": {
        "colab": {
          "base_uri": "https://localhost:8080/"
        },
        "id": "nUk9qgrU_rej",
        "outputId": "733cbd39-b732-4d1f-e127-f20de48f036c"
      },
      "execution_count": 8,
      "outputs": [
        {
          "output_type": "stream",
          "name": "stdout",
          "text": [
            "3과 4의 합은 7입니다.\n",
            "None\n"
          ]
        }
      ]
    },
    {
      "cell_type": "code",
      "source": [
        "def add(a,b):\n",
        "  print(\"%d과 %d의 합은 %d입니다.\" %(a,b,a+b))\n",
        "\n",
        "a=add(3,4)\n",
        "a"
      ],
      "metadata": {
        "colab": {
          "base_uri": "https://localhost:8080/"
        },
        "id": "wdP0sXJfABPU",
        "outputId": "61b3c4e0-09a6-416e-9ce8-c9e0cd5191e4"
      },
      "execution_count": 9,
      "outputs": [
        {
          "output_type": "stream",
          "name": "stdout",
          "text": [
            "3과 4의 합은 7입니다.\n"
          ]
        }
      ]
    },
    {
      "cell_type": "code",
      "source": [
        "def saymyself(name, old, man=True):\n",
        "  print(\"나의 이름은 %s입니다.\" %name)\n",
        "  print(\"나이는 %d살 입니다.\" %old)\n",
        "  if man:\n",
        "    print(\"남자입니다.\")\n",
        "  else:\n",
        "    print(\"여자입니다.\")\n",
        "\n",
        "saymyself(\"랴\",3,True) \n",
        "#\"없으면 변수로 알아들음\""
      ],
      "metadata": {
        "colab": {
          "base_uri": "https://localhost:8080/"
        },
        "id": "mxWuv2tCAR4s",
        "outputId": "9622c755-8436-4ab3-d65c-8abf9779f6c5"
      },
      "execution_count": 28,
      "outputs": [
        {
          "output_type": "stream",
          "name": "stdout",
          "text": [
            "나의 이름은 랴입니다.\n",
            "나이는 3살 입니다.\n",
            "남자입니다.\n"
          ]
        }
      ]
    },
    {
      "cell_type": "markdown",
      "source": [
        "def saymyself(name, old, man=True):\n",
        "  print(\"나의 이름은 %s입니다.\" %name)\n",
        "  print(\"나이는 %d살 입니다.\" %old)\n",
        "  if man:\n",
        "    print(\"남자입니다.\")\n",
        "  else:\n",
        "    print(\"여자입니다.\")\n",
        "\n",
        "saymyself(\"랴\",3,False)"
      ],
      "metadata": {
        "id": "agPWC4D3B3nj"
      }
    },
    {
      "cell_type": "code",
      "source": [
        "a=1\n",
        "def vartest(a):\n",
        "  a=a+1\n",
        "\n",
        "vartest(a)\n",
        "print(a)\n",
        "#a=1대입하고 함수는 b+1이므로 2 나와야하는거 아님? -> print(a)에서의 a는 그냥 맨 위의 a=1 출력하는거임(함수 내의 변수a와는 구분해서 사용해야함)"
      ],
      "metadata": {
        "colab": {
          "base_uri": "https://localhost:8080/"
        },
        "id": "1sW-u8NrC2ew",
        "outputId": "dfc381c5-00b8-494a-b76a-3f555bd3ecdb"
      },
      "execution_count": 41,
      "outputs": [
        {
          "output_type": "stream",
          "name": "stdout",
          "text": [
            "1\n"
          ]
        }
      ]
    },
    {
      "cell_type": "code",
      "source": [
        "a=1\n",
        "def vartest(a):\n",
        "  a=a+1\n",
        "  return a\n",
        "\n",
        "a=vartest(a)\n",
        "print(a)"
      ],
      "metadata": {
        "colab": {
          "base_uri": "https://localhost:8080/"
        },
        "id": "zObDbXgXG7p8",
        "outputId": "1efb1a91-41a1-4809-ab6c-ef553dde4f95"
      },
      "execution_count": 49,
      "outputs": [
        {
          "output_type": "stream",
          "name": "stdout",
          "text": [
            "2\n"
          ]
        }
      ]
    },
    {
      "cell_type": "code",
      "source": [
        "a=1\n",
        "def vartest(a):\n",
        "  a=a+1\n",
        "  return a\n",
        "\n",
        "a=vartest(a)\n",
        "a"
      ],
      "metadata": {
        "colab": {
          "base_uri": "https://localhost:8080/"
        },
        "id": "NpJo0j8tJ2OP",
        "outputId": "7f608118-7df8-459b-c33b-cf65f3a2ae0e"
      },
      "execution_count": 53,
      "outputs": [
        {
          "output_type": "execute_result",
          "data": {
            "text/plain": [
              "2"
            ]
          },
          "metadata": {},
          "execution_count": 53
        }
      ]
    },
    {
      "cell_type": "code",
      "source": [
        "a=1\n",
        "def vartest():\n",
        "  global a\n",
        "  a=a+1\n",
        "\n",
        "vartest()\n",
        "a"
      ],
      "metadata": {
        "colab": {
          "base_uri": "https://localhost:8080/"
        },
        "id": "J-maZWDkHLpT",
        "outputId": "16df99df-bd15-4b0e-9d9e-a408946c789d"
      },
      "execution_count": 52,
      "outputs": [
        {
          "output_type": "execute_result",
          "data": {
            "text/plain": [
              "2"
            ]
          },
          "metadata": {},
          "execution_count": 52
        }
      ]
    },
    {
      "cell_type": "code",
      "source": [
        "def vartest(v):\n",
        "  v=v+1\n",
        "  return v\n",
        "#함수 미리 만들어 둔거임 -> 그냥 필요할 때마다 꺼내다 쓰면됨\n",
        "\n",
        "a=1\n",
        "result = vartest(a)\n",
        "print(result)\n",
        "print(a)\n"
      ],
      "metadata": {
        "colab": {
          "base_uri": "https://localhost:8080/"
        },
        "id": "-tuY7OeAKG0k",
        "outputId": "6ebf23ab-fd66-407c-a353-4a0a8a041831"
      },
      "execution_count": 55,
      "outputs": [
        {
          "output_type": "stream",
          "name": "stdout",
          "text": [
            "2\n",
            "1\n"
          ]
        }
      ]
    },
    {
      "cell_type": "code",
      "source": [
        "add = lambda a,b:a+b\n",
        "#lambda 에는  return 없어도 ok `(:=return). 그런데 왜 ()안씀??\n",
        "\n",
        "result=add(3,4)\n",
        "print(result)"
      ],
      "metadata": {
        "colab": {
          "base_uri": "https://localhost:8080/"
        },
        "id": "TrnAfl2DLSW2",
        "outputId": "90668f1d-2c9a-4567-8a62-f7998a40bc73"
      },
      "execution_count": 56,
      "outputs": [
        {
          "output_type": "stream",
          "name": "stdout",
          "text": [
            "7\n"
          ]
        }
      ]
    },
    {
      "cell_type": "code",
      "source": [
        "def add(a,b):\n",
        "  return a+b\n",
        "\n",
        "result=add(3,4)\n",
        "print(result)f"
      ],
      "metadata": {
        "colab": {
          "base_uri": "https://localhost:8080/"
        },
        "id": "2bml2pnjL7lk",
        "outputId": "8630a8a8-4e87-47a0-cf7c-f28106a0a9a4"
      },
      "execution_count": 57,
      "outputs": [
        {
          "output_type": "stream",
          "name": "stdout",
          "text": [
            "7\n"
          ]
        }
      ]
    }
  ]
}